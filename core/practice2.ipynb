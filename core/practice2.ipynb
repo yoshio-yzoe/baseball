{
 "cells": [
  {
   "cell_type": "code",
   "execution_count": 10,
   "metadata": {},
   "outputs": [
    {
     "data": {
      "text/plain": [
       "playerID    9467\n",
       "yearID       147\n",
       "stint          4\n",
       "teamID       149\n",
       "lgID           6\n",
       "W             54\n",
       "L             43\n",
       "G             94\n",
       "GS            75\n",
       "CG            74\n",
       "SHO           15\n",
       "SV            57\n",
       "IPouts      1311\n",
       "H            534\n",
       "ER           216\n",
       "HR            48\n",
       "BB           209\n",
       "SO           338\n",
       "BAOpp        450\n",
       "ERA         1163\n",
       "IBB           22\n",
       "WP            61\n",
       "HBP           42\n",
       "BK            16\n",
       "BFP         1738\n",
       "GF            78\n",
       "R            345\n",
       "SH            25\n",
       "SF            18\n",
       "GIDP          44\n",
       "dtype: int64"
      ]
     },
     "execution_count": 10,
     "metadata": {},
     "output_type": "execute_result"
    }
   ],
   "source": [
    "#必要ライブラリの読み込み\n",
    "import pandas as pd\n",
    "import sklearn\n",
    "\n",
    "#データの読み込み\n",
    "df_people = pd.read_csv(\"People.csv\")\n",
    "#People.csv野球プレイヤーの記録、特に誕生日とかそういうの、MLBのマネージャー、および野球殿堂の人たち(ニグロリーグの人とか)\n",
    "#playerID  birthYear  birthMonth  birthDay birthCountry birthState birthCity\n",
    "#deathYear  deathMonth  deathDay nameLast nameGiven weight height bats throws debut\n",
    "#の項目がある\n",
    "\n",
    "#birthState birthCityは生まれた州と都市、bats throwsは投打の右左(RL)、debutはメジャーデビュー日\n",
    "df_bat = pd.read_csv(\"Batting.csv\")\n",
    "#Batting.csvは、シーズンごとのプレイヤーの打撃記録\n",
    "\n",
    "df_pitch = pd.read_csv(\"Pitching.csv\")\n",
    "#Pitching.csvは、シーズンごとのプレイヤーの投球記録\n",
    "\n",
    "df_pitch.nunique()\n",
    "#Pitching.csvの中に何の列が、何種類あるか調べる"
   ]
  },
  {
   "cell_type": "code",
   "execution_count": 11,
   "metadata": {},
   "outputs": [
    {
     "data": {
      "text/plain": [
       "playerID    18983\n",
       "yearID        147\n",
       "stint           5\n",
       "teamID        149\n",
       "lgID            6\n",
       "POS             7\n",
       "G             165\n",
       "GS            165\n",
       "InnOuts      4333\n",
       "PO           1555\n",
       "A             582\n",
       "E             107\n",
       "DP            170\n",
       "PB             91\n",
       "WP             52\n",
       "SB            179\n",
       "CS            120\n",
       "ZR             12\n",
       "dtype: int64"
      ]
     },
     "execution_count": 11,
     "metadata": {},
     "output_type": "execute_result"
    }
   ],
   "source": [
    "df_fielding = pd.read_csv(\"Fielding.csv\")\n",
    "#守備指標\n",
    "df_fielding.nunique()"
   ]
  },
  {
   "cell_type": "code",
   "execution_count": 12,
   "metadata": {},
   "outputs": [
    {
     "name": "stdout",
     "output_type": "stream",
     "text": [
      "0.9563729683490163\n"
     ]
    }
   ],
   "source": [
    "#playerID    18983\n",
    "#yearID        147\n",
    "#stint           5\n",
    "#teamID        149\n",
    "#lgID            6\n",
    "#POS             7　守備位置\n",
    "#G             165　試合数\n",
    "#GS            165　先発試合出場数\n",
    "#InnOuts      4333　イニング\n",
    "#PO           1555　刺殺\n",
    "#A             582　捕殺\n",
    "#E             107　失策\n",
    "#DP            170　併殺\n",
    "#PB             91　捕逸\n",
    "#WP             52　暴投\n",
    "#SB            179　許盗塁\n",
    "#CS            120　刺盗塁\n",
    "#ZR             12　ZR\n",
    "print(df_fielding.ZR.mean())"
   ]
  },
  {
   "cell_type": "code",
   "execution_count": 13,
   "metadata": {},
   "outputs": [
    {
     "name": "stdout",
     "output_type": "stream",
     "text": [
      "165\n"
     ]
    }
   ],
   "source": [
    "df_teams = pd.read_csv(\"Teams.csv\")\n",
    "#チームについて\n",
    "df_teams.nunique()\n",
    "print(df_teams.G.max())"
   ]
  },
  {
   "cell_type": "code",
   "execution_count": 14,
   "metadata": {},
   "outputs": [],
   "source": [
    "#yearID             147 \n",
    "#lgID                 6\n",
    "#teamID             149\n",
    "#franchID           120\n",
    "#divID                3\n",
    "#Rank                13 順位\n",
    "#G                  123 試合数\n",
    "#Ghome               38 ホーム試合数\n",
    "#W                  112 勝利\n",
    "#L                  113 敗北\n",
    "#DivWin               2 地区優勝したか否か\n",
    "#WCWin                2 ワイルドカード優勝したか否か\n",
    "#LgWin                2 リーグ優勝したか否か\n",
    "#WSWin                2 ワールドシリーズ優勝したか否か\n",
    "#R                  613 得点\n",
    "#AB                1099 打数\n",
    "#H                  732 安打\n",
    "#2B                 309 2ベース\n",
    "#3B                 126 3ベース\n",
    "#HR                 251 ホームラン\n",
    "#BB                 572 ファーボール\n",
    "#SO                1064 三振\n",
    "#SB                 320 盗塁\n",
    "#CS                 137 盗塁死数\n",
    "#HBP                 96 死球数\n",
    "#SF                  56 犠飛\n",
    "#RA                 606 失点\n",
    "#ER                 631 自責点\n",
    "#ERA                392 防御率\n",
    "#CG                 147 完投\n",
    "#SHO                 32 完封\n",
    "#SV                  66 セーブ\n",
    "#IPouts             781 イニング数\n",
    "#HA                 746 被安打\n",
    "#HRA                236 被本塁打\n",
    "#BBA                564 与四球\n",
    "#SOA               1091 奪三振\n",
    "#E                  450 エラー\n",
    "#DP                 199 併殺\n",
    "#FP                 166 守備率\n",
    "#name               139 チーム名\n",
    "#park               213 球場\n",
    "#attendance        2578 来場者数\n",
    "#BPF                 43 パークファクター(打撃)\n",
    "#PPF                 42 パークファクター(守備)\n",
    "#teamIDBR           101 チーム名略称\n",
    "#teamIDlahman45     148 \n",
    "#teamIDretro        149 "
   ]
  },
  {
   "cell_type": "code",
   "execution_count": 15,
   "metadata": {},
   "outputs": [
    {
     "name": "stdout",
     "output_type": "stream",
     "text": [
      "0.991\n"
     ]
    }
   ],
   "source": [
    "print(df_teams.FP.max())"
   ]
  },
  {
   "cell_type": "code",
   "execution_count": 16,
   "metadata": {},
   "outputs": [
    {
     "name": "stdout",
     "output_type": "stream",
     "text": [
      "641\n"
     ]
    }
   ],
   "source": [
    "print(df_fielding.A.max())"
   ]
  },
  {
   "cell_type": "code",
   "execution_count": 17,
   "metadata": {},
   "outputs": [],
   "source": [
    "def IDreturn(name):\n",
    "    #必要ライブラリの読み込み\n",
    "    import pandas as pd\n",
    "    import sklearn\n",
    "    import pprint\n",
    "\n",
    "    #データの読み込み\n",
    "    df_batting = pd.read_csv(\"Batting.csv\")\n",
    "    df_people = pd.read_csv(\"People.csv\")\n",
    "    \n",
    "    #入力で得た名前の選手のIDを取得\n",
    "    #queryは特定の条件からpandasデータフレームの要素(行あるいは列を抜き出すメソッド)\n",
    "    #queryの条件で変数を使う場合は変数の前に@をつける\n",
    "    #条件に合うindexをリスト化\n",
    "    dflist = list(df_people.query('nameGiven == @name').index)\n",
    "    #要素は一つしかないので、0番でおっけー\n",
    "    dfnumber = int(dflist[0])\n",
    "    #ilocは整数のみを因数に任意のpandasデータフレームの中の要素を抜き出す\n",
    "    ID = df_people.iloc[dfnumber, 0]\n",
    "    return(ID)"
   ]
  },
  {
   "cell_type": "code",
   "execution_count": 18,
   "metadata": {},
   "outputs": [
    {
     "name": "stdout",
     "output_type": "stream",
     "text": [
      "suzukic01\n"
     ]
    }
   ],
   "source": [
    "print(IDreturn(\"Ichiro\"))"
   ]
  },
  {
   "cell_type": "code",
   "execution_count": 38,
   "metadata": {},
   "outputs": [],
   "source": [
    "def IDreturn(firstname, lastname):\n",
    "    import pandas as pd\n",
    "    df_people = pd.read_csv(\"People.csv\")\n",
    "    dflist = list(df_people.query('nameFirst == @firstname' and 'nameLast == @lastname').index)\n",
    "    dfnumber = int(dflist[0])\n",
    "    ID = df_people.iloc[dfnumber, 0]\n",
    "    return(ID)\n",
    "\n",
    "def PlayerRecordBatting(firstname, lastname, what):\n",
    "    df_batting = pd.read_csv(\"Batting.csv\")\n",
    "    PlayID = IDreturn(firstname, lastname)\n",
    "    #l_columns = list(df_batting.columns)\n",
    "    #lnumber = l_columns.index(what)\n",
    "    #print(lnumber)\n",
    "    new_list = df_batting.query('playerID == @PlayID')\n",
    "    return(new_list[what])"
   ]
  },
  {
   "cell_type": "code",
   "execution_count": 39,
   "metadata": {},
   "outputs": [
    {
     "name": "stdout",
     "output_type": "stream",
     "text": [
      "81815      8\n",
      "83143      8\n",
      "84473     13\n",
      "85828      8\n",
      "87151     15\n",
      "88528      9\n",
      "89914      6\n",
      "91307      6\n",
      "92691     11\n",
      "94053      6\n",
      "95430      5\n",
      "96854      4\n",
      "96855      5\n",
      "98266      7\n",
      "99701      1\n",
      "101177     1\n",
      "102669     1\n",
      "104149     3\n",
      "Name: HR, dtype: int64\n"
     ]
    }
   ],
   "source": [
    "print(PlayerRecordBatting(\"Ichiro\", \"Suzuki\", \"HR\"))"
   ]
  },
  {
   "cell_type": "code",
   "execution_count": 40,
   "metadata": {},
   "outputs": [
    {
     "name": "stdout",
     "output_type": "stream",
     "text": [
      "81815     242\n",
      "83143     208\n",
      "84473     212\n",
      "85828     262\n",
      "87151     206\n",
      "88528     224\n",
      "89914     238\n",
      "91307     213\n",
      "92691     225\n",
      "94053     214\n",
      "95430     184\n",
      "96854     105\n",
      "96855      73\n",
      "98266     136\n",
      "99701     102\n",
      "101177     91\n",
      "102669     95\n",
      "104149     50\n",
      "Name: H, dtype: int64\n"
     ]
    }
   ],
   "source": [
    "print(PlayerRecordBatting(\"Ichiro\", \"Suzuki\",\"H\"))"
   ]
  },
  {
   "cell_type": "code",
   "execution_count": 41,
   "metadata": {},
   "outputs": [
    {
     "data": {
      "text/plain": [
       "count     18.000000\n",
       "mean     171.111111\n",
       "std       67.890820\n",
       "min       50.000000\n",
       "25%      102.750000\n",
       "50%      207.000000\n",
       "75%      221.500000\n",
       "max      262.000000\n",
       "Name: H, dtype: float64"
      ]
     },
     "execution_count": 41,
     "metadata": {},
     "output_type": "execute_result"
    }
   ],
   "source": [
    "Ichiro_H = PlayerRecordBatting(\"Ichiro\", \"Suzuki\", \"H\")\n",
    "Ichiro_H.describe()"
   ]
  },
  {
   "cell_type": "code",
   "execution_count": 42,
   "metadata": {},
   "outputs": [
    {
     "name": "stdout",
     "output_type": "stream",
     "text": [
      "[8, 8, 13, 8, 15, 9, 6, 6, 11, 6, 5, 4, 5, 7, 1, 1, 1, 3]\n"
     ]
    }
   ],
   "source": [
    "print(list(PlayerRecordBatting(\"Ichiro\",\"Suzuki\", \"HR\")))"
   ]
  },
  {
   "cell_type": "code",
   "execution_count": 44,
   "metadata": {},
   "outputs": [
    {
     "name": "stdout",
     "output_type": "stream",
     "text": [
      "[242, 208, 212, 262, 206, 224, 238, 213, 225, 214, 184, 105, 73, 136, 102, 91, 95, 50]\n"
     ]
    }
   ],
   "source": [
    "print(list(PlayerRecordBatting(\"Ichiro\", \"Suzuki\", \"H\")))"
   ]
  },
  {
   "cell_type": "code",
   "execution_count": 45,
   "metadata": {},
   "outputs": [
    {
     "name": "stdout",
     "output_type": "stream",
     "text": [
      "[0, 4, 3, 2, 11, 29, 54, 59, 35, 41, 46, 25, 47, 60, 54, 46, 49, 46, 41, 34, 22, 6]\n"
     ]
    }
   ],
   "source": [
    "print(list(PlayerRecordBatting(\"Babe\", \"Ruth\", \"HR\")))"
   ]
  },
  {
   "cell_type": "code",
   "execution_count": 46,
   "metadata": {},
   "outputs": [
    {
     "name": "stdout",
     "output_type": "stream",
     "text": [
      "714\n"
     ]
    }
   ],
   "source": [
    "print(sum(list(PlayerRecordBatting(\"Babe\", \"Ruth\",\"HR\"))))"
   ]
  },
  {
   "cell_type": "code",
   "execution_count": 51,
   "metadata": {},
   "outputs": [],
   "source": [
    "def PlayerRecordPitching(firstname, lastname, what):\n",
    "    df_pitching = pd.read_csv(\"Pitching.csv\")\n",
    "    PlayID = IDreturn(firstname, lastname)\n",
    "    new_list = df_pitching.query('playerID == @PlayID')\n",
    "    return(new_list[what])"
   ]
  },
  {
   "cell_type": "code",
   "execution_count": 52,
   "metadata": {},
   "outputs": [
    {
     "name": "stdout",
     "output_type": "stream",
     "text": [
      "30232    13\n",
      "30835    16\n",
      "31431    14\n",
      "32009     2\n",
      "32010     4\n",
      "32646    12\n",
      "33309     8\n",
      "33976    13\n",
      "34632    16\n",
      "35306    16\n",
      "36008     4\n",
      "36661     5\n",
      "38764     0\n",
      "Name: W, dtype: int64\n"
     ]
    }
   ],
   "source": [
    "print(PlayerRecordPitching(\"Hideo\", \"Nomo\", \"W\"))"
   ]
  },
  {
   "cell_type": "code",
   "execution_count": 53,
   "metadata": {
    "scrolled": true
   },
   "outputs": [
    {
     "name": "stdout",
     "output_type": "stream",
     "text": [
      "[13, 16, 14, 2, 4, 12, 8, 13, 16, 16, 4, 5, 0]\n"
     ]
    }
   ],
   "source": [
    "print(list(PlayerRecordPitching(\"Hideo\", \"Nomo\", \"W\")))"
   ]
  },
  {
   "cell_type": "code",
   "execution_count": 59,
   "metadata": {},
   "outputs": [
    {
     "name": "stdout",
     "output_type": "stream",
     "text": [
      "1860    0\n",
      "Name: W, dtype: int64\n"
     ]
    }
   ],
   "source": [
    "print(PlayerRecordPitching(\"Randy\", \"Johnson\", \"W\"))\n",
    "#同姓同名が複数人いる場合の改良策を考えるべし"
   ]
  },
  {
   "cell_type": "code",
   "execution_count": 61,
   "metadata": {},
   "outputs": [
    {
     "name": "stdout",
     "output_type": "stream",
     "text": [
      "23210    7\n",
      "23586    0\n",
      "Name: W, dtype: int64\n"
     ]
    }
   ],
   "source": [
    "print(PlayerRecordPitching(\"Pedro\", \"Martinez\", \"W\"))"
   ]
  },
  {
   "cell_type": "code",
   "execution_count": 1,
   "metadata": {},
   "outputs": [],
   "source": [
    "#同姓同名が複数人いる場合の改良策を考える\n",
    "#姓・名以外に特定できるもの\n",
    "#この際、同姓同名が複数人いる場合のif節を作る...が難しそう"
   ]
  },
  {
   "cell_type": "code",
   "execution_count": 2,
   "metadata": {},
   "outputs": [],
   "source": [
    "def IDreturn(firstname, lastname):\n",
    "    import pandas as pd\n",
    "    df_people = pd.read_csv(\"People.csv\")\n",
    "    dflist = list(df_people.query('nameFirst == @firstname' and 'nameLast == @lastname').index)\n",
    "    #現在こいつは条件を満たすプレイヤーの行番号のリストになっている\n",
    "    dfnumber = int(dflist[0]) #その一番最初を取っている\n",
    "    ID = df_people.iloc[dfnumber, 0] #それのIDを抜いている\n",
    "    return(ID)"
   ]
  },
  {
   "cell_type": "code",
   "execution_count": 3,
   "metadata": {},
   "outputs": [
    {
     "data": {
      "text/plain": [
       "'johnsab01'"
      ]
     },
     "execution_count": 3,
     "metadata": {},
     "output_type": "execute_result"
    }
   ],
   "source": [
    "IDreturn(\"Randy\", \"Johnson\")"
   ]
  },
  {
   "cell_type": "code",
   "execution_count": 4,
   "metadata": {},
   "outputs": [
    {
     "ename": "NameError",
     "evalue": "name 'dflist' is not defined",
     "output_type": "error",
     "traceback": [
      "\u001b[0;31m---------------------------------------------------------------------------\u001b[0m",
      "\u001b[0;31mNameError\u001b[0m                                 Traceback (most recent call last)",
      "\u001b[0;32m<ipython-input-4-9228078ff13b>\u001b[0m in \u001b[0;36m<module>\u001b[0;34m()\u001b[0m\n\u001b[0;32m----> 1\u001b[0;31m \u001b[0mdflist\u001b[0m\u001b[0;34m\u001b[0m\u001b[0m\n\u001b[0m",
      "\u001b[0;31mNameError\u001b[0m: name 'dflist' is not defined"
     ]
    }
   ],
   "source": [
    "dflist"
   ]
  },
  {
   "cell_type": "code",
   "execution_count": 8,
   "metadata": {},
   "outputs": [],
   "source": [
    "import pandas as pd\n",
    "df_people = pd.read_csv(\"People.csv\")\n",
    "dflist = list(df_people.query('nameFirst == \"Randy\"' and 'nameLast == \"Johnson\"').playerID)"
   ]
  },
  {
   "cell_type": "code",
   "execution_count": 9,
   "metadata": {},
   "outputs": [
    {
     "data": {
      "text/plain": [
       "['johnsab01',\n",
       " 'johnsab02',\n",
       " 'johnsad01',\n",
       " 'johnsal01',\n",
       " 'johnsal02',\n",
       " 'johnsar01',\n",
       " 'johnsar02',\n",
       " 'johnsba01',\n",
       " 'johnsba99',\n",
       " 'johnsbe01',\n",
       " 'johnsbe02',\n",
       " 'johnsbi01',\n",
       " 'johnsbi02',\n",
       " 'johnsbi03',\n",
       " 'johnsbi04',\n",
       " 'johnsbo01',\n",
       " 'johnsbo02',\n",
       " 'johnsbo03',\n",
       " 'johnsbo04',\n",
       " 'johnsbr01',\n",
       " 'johnsbr02',\n",
       " 'johnsca01',\n",
       " 'johnsch01',\n",
       " 'johnsch02',\n",
       " 'johnsch03',\n",
       " 'johnsch04',\n",
       " 'johnsch05',\n",
       " 'johnscl01',\n",
       " 'johnsco01',\n",
       " 'johnsda01',\n",
       " 'johnsda02',\n",
       " 'johnsda03',\n",
       " 'johnsda04',\n",
       " 'johnsda05',\n",
       " 'johnsda06',\n",
       " 'johnsde01',\n",
       " 'johnsdo02',\n",
       " 'johnsdo03',\n",
       " 'johnsea01',\n",
       " 'johnsed01',\n",
       " 'johnsel01',\n",
       " 'johnsel02',\n",
       " 'johnser01',\n",
       " 'johnser02',\n",
       " 'johnser03',\n",
       " 'johnser04',\n",
       " 'johnsfo01',\n",
       " 'johnsfr01',\n",
       " 'johnsfr03',\n",
       " 'johnsga01',\n",
       " 'johnsha01',\n",
       " 'johnsho01',\n",
       " 'johnsja02',\n",
       " 'johnsje01',\n",
       " 'johnsje02',\n",
       " 'johnsji02',\n",
       " 'johnsji03',\n",
       " 'johnsji04',\n",
       " 'johnsjo01',\n",
       " 'johnsjo03',\n",
       " 'johnsjo04',\n",
       " 'johnsjo05',\n",
       " 'johnsjo08',\n",
       " 'johnsjo09',\n",
       " 'johnsju99',\n",
       " 'johnske01',\n",
       " 'johnske02',\n",
       " 'johnske04',\n",
       " 'johnske05',\n",
       " 'johnskr01',\n",
       " 'johnsla01',\n",
       " 'johnsla02',\n",
       " 'johnsla03',\n",
       " 'johnsll01',\n",
       " 'johnslo01',\n",
       " 'johnsma01',\n",
       " 'johnsma02',\n",
       " 'johnsma03',\n",
       " 'johnsmi01',\n",
       " 'johnsmi02',\n",
       " 'johnsmi04',\n",
       " 'johnsni01',\n",
       " 'johnsot01',\n",
       " 'johnspa01',\n",
       " 'johnspi01',\n",
       " 'johnsra01',\n",
       " 'johnsra02',\n",
       " 'johnsra03',\n",
       " 'johnsra04',\n",
       " 'johnsra05',\n",
       " 'johnsre02',\n",
       " 'johnsro01',\n",
       " 'johnsro02',\n",
       " 'johnsro03',\n",
       " 'johnsro04',\n",
       " 'johnsro05',\n",
       " 'johnsro06',\n",
       " 'johnsro07',\n",
       " 'johnsru01',\n",
       " 'johnssi01',\n",
       " 'johnssp01',\n",
       " 'johnsst01',\n",
       " 'johnsst02',\n",
       " 'johnssy01',\n",
       " 'johnsti01',\n",
       " 'johnsto02',\n",
       " 'johnsto03',\n",
       " 'johnsty01',\n",
       " 'johnsvi01',\n",
       " 'johnswa01',\n",
       " 'johnswa02',\n",
       " 'johnswa03',\n",
       " 'johnsyo01']"
      ]
     },
     "execution_count": 9,
     "metadata": {},
     "output_type": "execute_result"
    }
   ],
   "source": [
    "dflist"
   ]
  },
  {
   "cell_type": "code",
   "execution_count": 10,
   "metadata": {},
   "outputs": [],
   "source": [
    "def IDreturn(firstname, lastname):\n",
    "    import pandas as pd\n",
    "    df_people = pd.read_csv(\"People.csv\")\n",
    "    dflist = list(df_people.query('nameFirst == @firstname' and 'nameLast == @lastname').index)\n",
    "    #現在こいつは条件を満たすプレイヤーの行番号のリストになっているので、もう一つ生年年ででもリストを作ろう\n",
    "    dflist2 = list(df_people.query('nameFirst == @firstname' and 'nameLast == @lastname').index)\n",
    "    dfnumber = int(dflist[0]) #その一番最初を取っている\n",
    "    ID = df_people.iloc[dfnumber, 0] #それのIDを抜いている\n",
    "    return(ID)"
   ]
  },
  {
   "cell_type": "code",
   "execution_count": 16,
   "metadata": {},
   "outputs": [],
   "source": [
    "def IDreturn_imp(firstname, lastname):\n",
    "    import pandas as pd\n",
    "    import sys\n",
    "    df_people = pd.read_csv(\"People.csv\")\n",
    "    dflist = list(df_people.query('nameFirst == @firstname and nameLast == @lastname').playerID)\n",
    "    if (dflist[0] == dflist[-1]):\n",
    "        return dflist[0]\n",
    "    else:\n",
    "        print('There are people having same first and last names.')\n",
    "        birth_year = int(input('Please input the Birth Year of the player you are trying to look up.'))\n",
    "        dflist2 = list(df_people.query('nameFirst == @firstname and nameLast == @lastname and birthYear == @birth_year').playerID)\n",
    "        if (dflist2[0] == dflist2[-1]):\n",
    "            return dflist2[0]\n",
    "        else:\n",
    "            print('There are still people having same first and last names. Please input the Birth Month and Date of the player you are trying to look up')\n",
    "            birth_month = int(input('Put the birth month.'))\n",
    "            birth_day = int(input('Put the birth day.'))\n",
    "            dflist3 = list(df_people.query('nameFirst == @firstname and nameLast == @lastname and birthYear == @birth_year and birthMonth == @birth_month and birthDay == @birth_day').playerID)\n",
    "            return dflist3[0]"
   ]
  },
  {
   "cell_type": "code",
   "execution_count": 6,
   "metadata": {},
   "outputs": [
    {
     "name": "stdout",
     "output_type": "stream",
     "text": [
      "['suzukic01']\n"
     ]
    }
   ],
   "source": [
    "import pandas as pd\n",
    "df_people = pd.read_csv(\"People.csv\")\n",
    "dflist = list(df_people.query('nameFirst == \"Ichiro\" and nameLast == \"Suzuki\"').playerID)\n",
    "print(dflist)"
   ]
  },
  {
   "cell_type": "code",
   "execution_count": 7,
   "metadata": {},
   "outputs": [
    {
     "data": {
      "text/plain": [
       "'suzukic01'"
      ]
     },
     "execution_count": 7,
     "metadata": {},
     "output_type": "execute_result"
    }
   ],
   "source": [
    "IDreturn_imp(\"Ichiro\", \"Suzuki\")"
   ]
  },
  {
   "cell_type": "code",
   "execution_count": 8,
   "metadata": {},
   "outputs": [
    {
     "name": "stdout",
     "output_type": "stream",
     "text": [
      "There are people having same first and last names.\n",
      "Please put the Birth Year of the player you are trying to look up.1963\n"
     ]
    },
    {
     "data": {
      "text/plain": [
       "'johnsra05'"
      ]
     },
     "execution_count": 8,
     "metadata": {},
     "output_type": "execute_result"
    }
   ],
   "source": [
    "IDreturn_imp(\"Randy\", \"Johnson\")"
   ]
  },
  {
   "cell_type": "code",
   "execution_count": 11,
   "metadata": {},
   "outputs": [],
   "source": [
    "def PlayerRecordBatting(firstname, lastname, what):\n",
    "    df_batting = pd.read_csv(\"Batting.csv\")\n",
    "    PlayID = IDreturn_imp(firstname, lastname)\n",
    "    #l_columns = list(df_batting.columns)\n",
    "    #lnumber = l_columns.index(what)\n",
    "    #print(lnumber)\n",
    "    new_list = df_batting.query('playerID == @PlayID')\n",
    "    return(new_list[what])\n",
    "\n",
    "def PlayerRecordPitching(firstname, lastname, what):\n",
    "    df_pitching = pd.read_csv(\"Pitching.csv\")\n",
    "    PlayID = IDreturn_imp(firstname, lastname)\n",
    "    new_list = df_pitching.query('playerID == @PlayID')\n",
    "    return(new_list[what])"
   ]
  },
  {
   "cell_type": "code",
   "execution_count": 12,
   "metadata": {},
   "outputs": [
    {
     "data": {
      "text/plain": [
       "81815     242\n",
       "83143     208\n",
       "84473     212\n",
       "85828     262\n",
       "87151     206\n",
       "88528     224\n",
       "89914     238\n",
       "91307     213\n",
       "92691     225\n",
       "94053     214\n",
       "95430     184\n",
       "96854     105\n",
       "96855      73\n",
       "98266     136\n",
       "99701     102\n",
       "101177     91\n",
       "102669     95\n",
       "104149     50\n",
       "Name: H, dtype: int64"
      ]
     },
     "execution_count": 12,
     "metadata": {},
     "output_type": "execute_result"
    }
   ],
   "source": [
    "PlayerRecordBatting(\"Ichiro\", \"Suzuki\", \"H\")"
   ]
  },
  {
   "cell_type": "code",
   "execution_count": 13,
   "metadata": {},
   "outputs": [
    {
     "name": "stdout",
     "output_type": "stream",
     "text": [
      "There are people having same first and last names.\n",
      "Please put the Birth Year of the player you are trying to look up.1963\n",
      "26549     3\n",
      "27030     0\n",
      "27031     7\n",
      "27527    14\n",
      "28058    13\n",
      "28540    12\n",
      "29047    19\n",
      "29574    13\n",
      "30117    18\n",
      "30706     5\n",
      "31310    20\n",
      "31892     9\n",
      "31893    10\n",
      "32523    17\n",
      "33167    19\n",
      "33841    21\n",
      "34501    24\n",
      "35173     6\n",
      "35880    16\n",
      "36545    17\n",
      "37207    17\n",
      "37897     4\n",
      "38629    11\n",
      "39328     8\n",
      "Name: W, dtype: int64\n"
     ]
    }
   ],
   "source": [
    "print(PlayerRecordPitching(\"Randy\", \"Johnson\", \"W\"))"
   ]
  },
  {
   "cell_type": "code",
   "execution_count": 14,
   "metadata": {},
   "outputs": [
    {
     "name": "stdout",
     "output_type": "stream",
     "text": [
      "[0, 4, 3, 2, 11, 29, 54, 59, 35, 41, 46, 25, 47, 60, 54, 46, 49, 46, 41, 34, 22, 6]\n"
     ]
    }
   ],
   "source": [
    "print(list(PlayerRecordBatting(\"Babe\", \"Ruth\", \"HR\")))"
   ]
  },
  {
   "cell_type": "code",
   "execution_count": 15,
   "metadata": {},
   "outputs": [
    {
     "name": "stdout",
     "output_type": "stream",
     "text": [
      "There are people having same first and last names.\n",
      "Please put the Birth Year of the player you are trying to look up.1963\n",
      "[3, 0, 7, 14, 13, 12, 19, 13, 18, 5, 20, 9, 10, 17, 19, 21, 24, 6, 16, 17, 17, 4, 11, 8]\n"
     ]
    }
   ],
   "source": [
    "print(list(PlayerRecordPitching(\"Randy\", \"Johnson\", \"W\")))"
   ]
  },
  {
   "cell_type": "code",
   "execution_count": null,
   "metadata": {},
   "outputs": [],
   "source": []
  }
 ],
 "metadata": {
  "kernelspec": {
   "display_name": "Python 3",
   "language": "python",
   "name": "python3"
  },
  "language_info": {
   "codemirror_mode": {
    "name": "ipython",
    "version": 3
   },
   "file_extension": ".py",
   "mimetype": "text/x-python",
   "name": "python",
   "nbconvert_exporter": "python",
   "pygments_lexer": "ipython3",
   "version": "3.6.4"
  }
 },
 "nbformat": 4,
 "nbformat_minor": 2
}
