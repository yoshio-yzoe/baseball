{
 "cells": [
  {
   "cell_type": "code",
   "execution_count": 3,
   "metadata": {},
   "outputs": [],
   "source": [
    "#セイバー指標をテーブルに加えようのコーナー"
   ]
  },
  {
   "cell_type": "code",
   "execution_count": 4,
   "metadata": {},
   "outputs": [
    {
     "name": "stdout",
     "output_type": "stream",
     "text": [
      "Index(['playerID', 'yearID', 'stint', 'teamID', 'lgID', 'G', 'AB', 'R', 'H',\n",
      "       '2B', '3B', 'HR', 'RBI', 'SB', 'CS', 'BB', 'SO', 'IBB', 'HBP', 'SH',\n",
      "       'SF', 'GIDP'],\n",
      "      dtype='object')\n"
     ]
    },
    {
     "data": {
      "text/plain": [
       "\"\\n'playerID'\\n'yearID' \\n'stint' 1シーズンで何チーム目か\\n'teamID' チーム(略称)\\n'lgID' リーグ\\n'G' 出場数\\n'AB' 打数\\n'R' 得点\\n'H' 安打数\\n'2B' 二塁打\\n'3B' 三塁打\\n'HR' ホームラン\\n'RBI' 打点\\n'SB' 盗塁\\n'CS' 盗塁死\\n'BB' 四球\\n'SO' 三振\\n'IBB' 敬遠\\n'HBP' 死球\\n'SH' 犠打\\n'SF' 犠飛\\n'GIDP' 併殺打\\n       \\n\""
      ]
     },
     "execution_count": 4,
     "metadata": {},
     "output_type": "execute_result"
    }
   ],
   "source": [
    "import pandas as pd\n",
    "df_batting_origin = pd.read_csv(\"Batting.csv\")\n",
    "print(df_batting_origin.columns)\n",
    "\n",
    "'''\n",
    "'playerID'\n",
    "'yearID' \n",
    "'stint' 1シーズンで何チーム目か\n",
    "'teamID' チーム(略称)\n",
    "'lgID' リーグ\n",
    "'G' 出場数\n",
    "'AB' 打数\n",
    "'R' 得点\n",
    "'H' 安打数\n",
    "'2B' 二塁打\n",
    "'3B' 三塁打\n",
    "'HR' ホームラン\n",
    "'RBI' 打点\n",
    "'SB' 盗塁\n",
    "'CS' 盗塁死\n",
    "'BB' 四球\n",
    "'SO' 三振\n",
    "'IBB' 敬遠\n",
    "'HBP' 死球\n",
    "'SH' 犠打\n",
    "'SF' 犠飛\n",
    "'GIDP' 併殺打\n",
    "       \n",
    "'''\n",
    "#playerID    104324 non-null object\n",
    "#yearID      104324 non-null int64\n",
    "#stint       104324 non-null int64　1シーズンで何チーム目か\n",
    "#teamID      104324 non-null object　チーム(略称)\n",
    "#lgID        103586 non-null object　リーグ\n",
    "#G           104324 non-null int64　出場数\n",
    "#AB          104324 non-null int64　打数\n",
    "#R           104324 non-null int64　得点\n",
    "#H           104324 non-null int64　安打数\n",
    "#2B          104324 non-null int64　二塁打数\n",
    "#3B          104324 non-null int64　三塁打数\n",
    "#HR          104324 non-null int64　ホームラン数\n",
    "#RBI         103568 non-null float64　打点\n",
    "#SB          101956 non-null float64　盗塁数\n",
    "#CS          80832 non-null float64　盗塁死数\n",
    "#BB          104324 non-null int64　死球数\n",
    "#SO          97974 non-null float64　三振数\n",
    "#IBB         67722 non-null float64　敬遠数\n",
    "#HBP         101507 non-null float64　死球数\n",
    "#SH          98255 non-null float64　犠打数\n",
    "#SF          68259 non-null float64　犠飛数\n",
    "#GIDP        78921 non-null float64　併殺打数"
   ]
  },
  {
   "cell_type": "code",
   "execution_count": 5,
   "metadata": {},
   "outputs": [],
   "source": [
    "import pandas as pd\n",
    "import sklearn\n",
    "\n",
    "df_batting_origin = pd.read_csv(\"Batting.csv\")\n",
    "df_batting = df_batting_origin.copy()\n",
    "df_batting = df_batting.fillna(int(0)) #欠損を0に置き換え\n",
    "df_batting['AVG'] = df_batting['H']/df_batting['AB']\n",
    "#出塁率 ＝ （安打数＋四球＋死球）÷（打数＋四球＋死球＋犠飛）\n",
    "df_batting['OBP'] = (df_batting['H'] + df_batting['BB'] + df_batting['HBP']) / (df_batting['AB'] + df_batting['BB'] + df_batting['HBP'] + df_batting['SF'])\n",
    "#塁打数\n",
    "df_batting['TB'] = (df_batting['H'] - df_batting['2B'] - df_batting['3B'] - df_batting['HR']) * 1 + df_batting['2B'] * 2 + df_batting['3B'] * 3 + df_batting['HR'] * 4\n",
    "\n",
    "#長打率 ＝ 塁打数÷打数\n",
    "df_batting['SLG'] = df_batting['TB'] / df_batting['AB']\n",
    "\n",
    "df_batting['OPS'] = df_batting['OBP'] + df_batting['SLG']"
   ]
  },
  {
   "cell_type": "code",
   "execution_count": 6,
   "metadata": {
    "scrolled": true
   },
   "outputs": [
    {
     "name": "stdout",
     "output_type": "stream",
     "text": [
      "OPS    5.0\n",
      "AVG    1.0\n",
      "dtype: float64\n"
     ]
    }
   ],
   "source": [
    "print(df_batting[[\"OPS\",\"AVG\"]].max())"
   ]
  },
  {
   "cell_type": "code",
   "execution_count": 7,
   "metadata": {},
   "outputs": [
    {
     "name": "stdout",
     "output_type": "stream",
     "text": [
      "81815     316\n",
      "83143     275\n",
      "84473     296\n",
      "85828     320\n",
      "87151     296\n",
      "88528     289\n",
      "89914     292\n",
      "91307     265\n",
      "92691     297\n",
      "94053     268\n",
      "95430     227\n",
      "96854     142\n",
      "96855     103\n",
      "98266     178\n",
      "99701     122\n",
      "101177    111\n",
      "102669    123\n",
      "104149     65\n",
      "Name: TB, dtype: int64\n"
     ]
    }
   ],
   "source": [
    "print(df_batting[df_batting[\"playerID\"] == \"suzukic01\"].TB)"
   ]
  },
  {
   "cell_type": "code",
   "execution_count": 8,
   "metadata": {},
   "outputs": [
    {
     "name": "stdout",
     "output_type": "stream",
     "text": [
      "81815     0.838119\n",
      "83143     0.812625\n",
      "84473     0.787736\n",
      "85828     0.869019\n",
      "87151     0.786003\n",
      "88528     0.786000\n",
      "89914     0.826853\n",
      "91307     0.746887\n",
      "92691     0.850883\n",
      "94053     0.753514\n",
      "95430     0.645025\n",
      "96854     0.641650\n",
      "96855     0.794170\n",
      "98266     0.639211\n",
      "99701     0.663593\n",
      "101177    0.560650\n",
      "102669    0.729738\n",
      "104149    0.649390\n",
      "Name: OPS, dtype: float64\n"
     ]
    }
   ],
   "source": [
    "print(df_batting[df_batting[\"playerID\"] == \"suzukic01\"].OPS)"
   ]
  },
  {
   "cell_type": "code",
   "execution_count": 9,
   "metadata": {},
   "outputs": [],
   "source": [
    "#とりあえず打率とOPS終了\n",
    "#以下もっとガチセイバー導入"
   ]
  },
  {
   "cell_type": "code",
   "execution_count": 10,
   "metadata": {},
   "outputs": [],
   "source": [
    "#wOBA (2012年MLB) = {0.691×(四球 - 敬遠) + 0.722×死球 + 0.884×単打 + 1.257×二塁打 + 1.593×三塁打 + 2.058×本塁打}÷(打数 + 四球 – 敬遠 + 犠飛 + 死球)\n",
    "df_batting['wOBA'] = (0.691 * (df_batting['BB'] - df_batting['IBB']) + 0.722 * df_batting['HBP'] + 0.884 * (df_batting['H'] - df_batting['2B'] - df_batting['3B'] - df_batting['HR']) + 1.257 * df_batting['2B'] +1.593 * df_batting['3B'] + 2.058 * df_batting['HR']) / (df_batting['AB'] + df_batting['BB'] - df_batting['IBB'] + df_batting['SF'] + df_batting['HBP'])"
   ]
  },
  {
   "cell_type": "code",
   "execution_count": 11,
   "metadata": {},
   "outputs": [
    {
     "name": "stdout",
     "output_type": "stream",
     "text": [
      "15062    0.500000\n",
      "15847    0.952325\n",
      "16468    0.741035\n",
      "16989    0.856730\n",
      "17503    0.966346\n",
      "18015    1.113808\n",
      "18532    1.381802\n",
      "19052    1.358633\n",
      "19586    1.106222\n",
      "20109    1.308908\n",
      "20649    1.251723\n",
      "21201    0.936033\n",
      "21731    1.252950\n",
      "22269    1.258190\n",
      "22799    1.171973\n",
      "23343    1.127708\n",
      "23875    1.224790\n",
      "24380    1.195095\n",
      "24909    1.149796\n",
      "25406    1.023438\n",
      "25920    0.984969\n",
      "26434    0.789251\n",
      "Name: OPS, dtype: float64\n"
     ]
    }
   ],
   "source": [
    "print(df_batting[df_batting[\"playerID\"] == \"ruthba01\"].OPS)\n",
    "#NaNの理由解明、犠牲フライ等が過去に記録として扱われていないため"
   ]
  },
  {
   "cell_type": "code",
   "execution_count": 12,
   "metadata": {},
   "outputs": [
    {
     "name": "stdout",
     "output_type": "stream",
     "text": [
      "63335    0.326904\n",
      "64351    0.350520\n",
      "65407    0.364668\n",
      "66454    0.329758\n",
      "67522    0.407216\n",
      "68638    0.385230\n",
      "69722    0.441538\n",
      "70793    0.459295\n",
      "71951    0.442406\n",
      "73016    0.420781\n",
      "74269    0.444023\n",
      "75519    0.426372\n",
      "76763    0.431796\n",
      "78088    0.417402\n",
      "79391    0.459085\n",
      "80766    0.543052\n",
      "82095    0.542333\n",
      "83423    0.504405\n",
      "84775    0.539755\n",
      "86107    0.428510\n",
      "87446    0.411090\n",
      "88819    0.425933\n",
      "Name: wOBA, dtype: float64\n"
     ]
    }
   ],
   "source": [
    "print(df_batting[df_batting[\"playerID\"] == \"bondsba01\"].wOBA)"
   ]
  },
  {
   "cell_type": "code",
   "execution_count": 13,
   "metadata": {},
   "outputs": [
    {
     "name": "stdout",
     "output_type": "stream",
     "text": [
      "15062    0.214100\n",
      "15847    0.405842\n",
      "16468    0.322822\n",
      "16989    0.373074\n",
      "17503    0.413562\n",
      "18015    0.467968\n",
      "18532    0.559130\n",
      "19052    0.552164\n",
      "19586    0.463609\n",
      "20109    0.539819\n",
      "20649    0.520480\n",
      "21201    0.403317\n",
      "21731    0.520621\n",
      "22269    0.518942\n",
      "22799    0.487648\n",
      "23343    0.473732\n",
      "23875    0.509119\n",
      "24380    0.501931\n",
      "24909    0.485070\n",
      "25406    0.438410\n",
      "25920    0.427034\n",
      "26434    0.351696\n",
      "Name: wOBA, dtype: float64\n"
     ]
    }
   ],
   "source": [
    "print(df_batting[df_batting[\"playerID\"] == \"ruthba01\"].wOBA)"
   ]
  },
  {
   "cell_type": "code",
   "execution_count": 14,
   "metadata": {},
   "outputs": [],
   "source": [
    "df_batting['wRAA'] = (df_batting['AB'] + df_batting['BB'] + df_batting['HBP'] + df_batting['SF'] + df_batting['SH'])*(df_batting['wOBA'] - 0.320)/1.25"
   ]
  },
  {
   "cell_type": "code",
   "execution_count": 15,
   "metadata": {},
   "outputs": [],
   "source": [
    "#wRCを計算するためにはその年のリーグ総得点数およびリーグ総打席数が必要\n",
    "#yearIDからそれらを出す関数が必要\n",
    "#そもそもリーグ総得点数およびリーグ総打席数のデータは何処\n",
    "#Teams.csvに各チームの年度ごとのがあるのでまあ使えるかな\n",
    "def Sum_R(year):\n",
    "    import pandas as pd\n",
    "    df_team = pd.read_csv(\"Teams.csv\")\n",
    "    return sum(df_team[df_team[\"yearID\"] == year].R)\n",
    "\n",
    "def Sum_PA(year):\n",
    "    import pandas as pd\n",
    "    df_team = pd.read_csv(\"Teams.csv\")\n",
    "    return int((sum(df_team[df_team[\"yearID\"] == year].AB) + sum(df_team[df_team[\"yearID\"] == year].BB) + sum(df_team[df_team[\"yearID\"] == year].HBP) + sum(df_team[df_team[\"yearID\"] == year].SF) + sum(df_team[df_team[\"yearID\"] == year].SB)))"
   ]
  },
  {
   "cell_type": "code",
   "execution_count": null,
   "metadata": {},
   "outputs": [],
   "source": []
  },
  {
   "cell_type": "code",
   "execution_count": 16,
   "metadata": {
    "scrolled": true
   },
   "outputs": [
    {
     "data": {
      "text/plain": [
       "21744"
      ]
     },
     "execution_count": 16,
     "metadata": {},
     "output_type": "execute_result"
    }
   ],
   "source": [
    "Sum_R(2016)"
   ]
  },
  {
   "cell_type": "code",
   "execution_count": 17,
   "metadata": {},
   "outputs": [
    {
     "data": {
      "text/plain": [
       "186051"
      ]
     },
     "execution_count": 17,
     "metadata": {},
     "output_type": "execute_result"
    }
   ],
   "source": [
    "Sum_PA(2016) #184580"
   ]
  },
  {
   "cell_type": "code",
   "execution_count": 18,
   "metadata": {},
   "outputs": [
    {
     "ename": "KeyboardInterrupt",
     "evalue": "",
     "output_type": "error",
     "traceback": [
      "\u001b[0;31m---------------------------------------------------------------------------\u001b[0m",
      "\u001b[0;31mKeyboardInterrupt\u001b[0m                         Traceback (most recent call last)",
      "\u001b[0;32m<ipython-input-18-5e06b926c3c9>\u001b[0m in \u001b[0;36m<module>\u001b[0;34m()\u001b[0m\n\u001b[1;32m      1\u001b[0m \u001b[0;31m#wRC = wRAA + (リーグ総得点数 / リーグ総打席数) × 打席数\u001b[0m\u001b[0;34m\u001b[0m\u001b[0;34m\u001b[0m\u001b[0m\n\u001b[0;32m----> 2\u001b[0;31m \u001b[0mdf_batting\u001b[0m\u001b[0;34m[\u001b[0m\u001b[0;34m'wRC'\u001b[0m\u001b[0;34m]\u001b[0m \u001b[0;34m=\u001b[0m \u001b[0mdf_batting\u001b[0m\u001b[0;34m[\u001b[0m\u001b[0;34m'wRAA'\u001b[0m\u001b[0;34m]\u001b[0m \u001b[0;34m+\u001b[0m \u001b[0;34m(\u001b[0m\u001b[0mdf_batting\u001b[0m\u001b[0;34m[\u001b[0m\u001b[0;34m'AB'\u001b[0m\u001b[0;34m]\u001b[0m \u001b[0;34m+\u001b[0m \u001b[0mdf_batting\u001b[0m\u001b[0;34m[\u001b[0m\u001b[0;34m'BB'\u001b[0m\u001b[0;34m]\u001b[0m \u001b[0;34m+\u001b[0m \u001b[0mdf_batting\u001b[0m\u001b[0;34m[\u001b[0m\u001b[0;34m'HBP'\u001b[0m\u001b[0;34m]\u001b[0m \u001b[0;34m+\u001b[0m \u001b[0mdf_batting\u001b[0m\u001b[0;34m[\u001b[0m\u001b[0;34m'SF'\u001b[0m\u001b[0;34m]\u001b[0m \u001b[0;34m+\u001b[0m \u001b[0mdf_batting\u001b[0m\u001b[0;34m[\u001b[0m\u001b[0;34m'SH'\u001b[0m\u001b[0;34m]\u001b[0m\u001b[0;34m)\u001b[0m \u001b[0;34m*\u001b[0m \u001b[0mdf_batting\u001b[0m\u001b[0;34m[\u001b[0m\u001b[0;34m'yearID'\u001b[0m\u001b[0;34m]\u001b[0m\u001b[0;34m.\u001b[0m\u001b[0mmap\u001b[0m\u001b[0;34m(\u001b[0m\u001b[0mSum_R\u001b[0m\u001b[0;34m)\u001b[0m \u001b[0;34m/\u001b[0m \u001b[0mdf_batting\u001b[0m\u001b[0;34m[\u001b[0m\u001b[0;34m'yearID'\u001b[0m\u001b[0;34m]\u001b[0m\u001b[0;34m.\u001b[0m\u001b[0mmap\u001b[0m\u001b[0;34m(\u001b[0m\u001b[0mSum_PA\u001b[0m\u001b[0;34m)\u001b[0m\u001b[0;34m\u001b[0m\u001b[0m\n\u001b[0m",
      "\u001b[0;32m~/anaconda3/lib/python3.6/site-packages/pandas/core/series.py\u001b[0m in \u001b[0;36mmap\u001b[0;34m(self, arg, na_action)\u001b[0m\n\u001b[1;32m   2352\u001b[0m         \u001b[0;32melse\u001b[0m\u001b[0;34m:\u001b[0m\u001b[0;34m\u001b[0m\u001b[0m\n\u001b[1;32m   2353\u001b[0m             \u001b[0;31m# arg is a function\u001b[0m\u001b[0;34m\u001b[0m\u001b[0;34m\u001b[0m\u001b[0m\n\u001b[0;32m-> 2354\u001b[0;31m             \u001b[0mnew_values\u001b[0m \u001b[0;34m=\u001b[0m \u001b[0mmap_f\u001b[0m\u001b[0;34m(\u001b[0m\u001b[0mvalues\u001b[0m\u001b[0;34m,\u001b[0m \u001b[0marg\u001b[0m\u001b[0;34m)\u001b[0m\u001b[0;34m\u001b[0m\u001b[0m\n\u001b[0m\u001b[1;32m   2355\u001b[0m \u001b[0;34m\u001b[0m\u001b[0m\n\u001b[1;32m   2356\u001b[0m         return self._constructor(new_values,\n",
      "\u001b[0;32mpandas/_libs/src/inference.pyx\u001b[0m in \u001b[0;36mpandas._libs.lib.map_infer\u001b[0;34m()\u001b[0m\n",
      "\u001b[0;32m<ipython-input-15-3c36713e6b35>\u001b[0m in \u001b[0;36mSum_R\u001b[0;34m(year)\u001b[0m\n\u001b[1;32m      5\u001b[0m \u001b[0;32mdef\u001b[0m \u001b[0mSum_R\u001b[0m\u001b[0;34m(\u001b[0m\u001b[0myear\u001b[0m\u001b[0;34m)\u001b[0m\u001b[0;34m:\u001b[0m\u001b[0;34m\u001b[0m\u001b[0m\n\u001b[1;32m      6\u001b[0m     \u001b[0;32mimport\u001b[0m \u001b[0mpandas\u001b[0m \u001b[0;32mas\u001b[0m \u001b[0mpd\u001b[0m\u001b[0;34m\u001b[0m\u001b[0m\n\u001b[0;32m----> 7\u001b[0;31m     \u001b[0mdf_team\u001b[0m \u001b[0;34m=\u001b[0m \u001b[0mpd\u001b[0m\u001b[0;34m.\u001b[0m\u001b[0mread_csv\u001b[0m\u001b[0;34m(\u001b[0m\u001b[0;34m\"Teams.csv\"\u001b[0m\u001b[0;34m)\u001b[0m\u001b[0;34m\u001b[0m\u001b[0m\n\u001b[0m\u001b[1;32m      8\u001b[0m     \u001b[0;32mreturn\u001b[0m \u001b[0msum\u001b[0m\u001b[0;34m(\u001b[0m\u001b[0mdf_team\u001b[0m\u001b[0;34m[\u001b[0m\u001b[0mdf_team\u001b[0m\u001b[0;34m[\u001b[0m\u001b[0;34m\"yearID\"\u001b[0m\u001b[0;34m]\u001b[0m \u001b[0;34m==\u001b[0m \u001b[0myear\u001b[0m\u001b[0;34m]\u001b[0m\u001b[0;34m.\u001b[0m\u001b[0mR\u001b[0m\u001b[0;34m)\u001b[0m\u001b[0;34m\u001b[0m\u001b[0m\n\u001b[1;32m      9\u001b[0m \u001b[0;34m\u001b[0m\u001b[0m\n",
      "\u001b[0;32m~/anaconda3/lib/python3.6/site-packages/pandas/io/parsers.py\u001b[0m in \u001b[0;36mparser_f\u001b[0;34m(filepath_or_buffer, sep, delimiter, header, names, index_col, usecols, squeeze, prefix, mangle_dupe_cols, dtype, engine, converters, true_values, false_values, skipinitialspace, skiprows, nrows, na_values, keep_default_na, na_filter, verbose, skip_blank_lines, parse_dates, infer_datetime_format, keep_date_col, date_parser, dayfirst, iterator, chunksize, compression, thousands, decimal, lineterminator, quotechar, quoting, escapechar, comment, encoding, dialect, tupleize_cols, error_bad_lines, warn_bad_lines, skipfooter, skip_footer, doublequote, delim_whitespace, as_recarray, compact_ints, use_unsigned, low_memory, buffer_lines, memory_map, float_precision)\u001b[0m\n\u001b[1;32m    707\u001b[0m                     skip_blank_lines=skip_blank_lines)\n\u001b[1;32m    708\u001b[0m \u001b[0;34m\u001b[0m\u001b[0m\n\u001b[0;32m--> 709\u001b[0;31m         \u001b[0;32mreturn\u001b[0m \u001b[0m_read\u001b[0m\u001b[0;34m(\u001b[0m\u001b[0mfilepath_or_buffer\u001b[0m\u001b[0;34m,\u001b[0m \u001b[0mkwds\u001b[0m\u001b[0;34m)\u001b[0m\u001b[0;34m\u001b[0m\u001b[0m\n\u001b[0m\u001b[1;32m    710\u001b[0m \u001b[0;34m\u001b[0m\u001b[0m\n\u001b[1;32m    711\u001b[0m     \u001b[0mparser_f\u001b[0m\u001b[0;34m.\u001b[0m\u001b[0m__name__\u001b[0m \u001b[0;34m=\u001b[0m \u001b[0mname\u001b[0m\u001b[0;34m\u001b[0m\u001b[0m\n",
      "\u001b[0;32m~/anaconda3/lib/python3.6/site-packages/pandas/io/parsers.py\u001b[0m in \u001b[0;36m_read\u001b[0;34m(filepath_or_buffer, kwds)\u001b[0m\n\u001b[1;32m    453\u001b[0m \u001b[0;34m\u001b[0m\u001b[0m\n\u001b[1;32m    454\u001b[0m     \u001b[0;32mtry\u001b[0m\u001b[0;34m:\u001b[0m\u001b[0;34m\u001b[0m\u001b[0m\n\u001b[0;32m--> 455\u001b[0;31m         \u001b[0mdata\u001b[0m \u001b[0;34m=\u001b[0m \u001b[0mparser\u001b[0m\u001b[0;34m.\u001b[0m\u001b[0mread\u001b[0m\u001b[0;34m(\u001b[0m\u001b[0mnrows\u001b[0m\u001b[0;34m)\u001b[0m\u001b[0;34m\u001b[0m\u001b[0m\n\u001b[0m\u001b[1;32m    456\u001b[0m     \u001b[0;32mfinally\u001b[0m\u001b[0;34m:\u001b[0m\u001b[0;34m\u001b[0m\u001b[0m\n\u001b[1;32m    457\u001b[0m         \u001b[0mparser\u001b[0m\u001b[0;34m.\u001b[0m\u001b[0mclose\u001b[0m\u001b[0;34m(\u001b[0m\u001b[0;34m)\u001b[0m\u001b[0;34m\u001b[0m\u001b[0m\n",
      "\u001b[0;32m~/anaconda3/lib/python3.6/site-packages/pandas/io/parsers.py\u001b[0m in \u001b[0;36mread\u001b[0;34m(self, nrows)\u001b[0m\n\u001b[1;32m   1067\u001b[0m                 \u001b[0;32mraise\u001b[0m \u001b[0mValueError\u001b[0m\u001b[0;34m(\u001b[0m\u001b[0;34m'skipfooter not supported for iteration'\u001b[0m\u001b[0;34m)\u001b[0m\u001b[0;34m\u001b[0m\u001b[0m\n\u001b[1;32m   1068\u001b[0m \u001b[0;34m\u001b[0m\u001b[0m\n\u001b[0;32m-> 1069\u001b[0;31m         \u001b[0mret\u001b[0m \u001b[0;34m=\u001b[0m \u001b[0mself\u001b[0m\u001b[0;34m.\u001b[0m\u001b[0m_engine\u001b[0m\u001b[0;34m.\u001b[0m\u001b[0mread\u001b[0m\u001b[0;34m(\u001b[0m\u001b[0mnrows\u001b[0m\u001b[0;34m)\u001b[0m\u001b[0;34m\u001b[0m\u001b[0m\n\u001b[0m\u001b[1;32m   1070\u001b[0m \u001b[0;34m\u001b[0m\u001b[0m\n\u001b[1;32m   1071\u001b[0m         \u001b[0;32mif\u001b[0m \u001b[0mself\u001b[0m\u001b[0;34m.\u001b[0m\u001b[0moptions\u001b[0m\u001b[0;34m.\u001b[0m\u001b[0mget\u001b[0m\u001b[0;34m(\u001b[0m\u001b[0;34m'as_recarray'\u001b[0m\u001b[0;34m)\u001b[0m\u001b[0;34m:\u001b[0m\u001b[0;34m\u001b[0m\u001b[0m\n",
      "\u001b[0;32m~/anaconda3/lib/python3.6/site-packages/pandas/io/parsers.py\u001b[0m in \u001b[0;36mread\u001b[0;34m(self, nrows)\u001b[0m\n\u001b[1;32m   1837\u001b[0m     \u001b[0;32mdef\u001b[0m \u001b[0mread\u001b[0m\u001b[0;34m(\u001b[0m\u001b[0mself\u001b[0m\u001b[0;34m,\u001b[0m \u001b[0mnrows\u001b[0m\u001b[0;34m=\u001b[0m\u001b[0;32mNone\u001b[0m\u001b[0;34m)\u001b[0m\u001b[0;34m:\u001b[0m\u001b[0;34m\u001b[0m\u001b[0m\n\u001b[1;32m   1838\u001b[0m         \u001b[0;32mtry\u001b[0m\u001b[0;34m:\u001b[0m\u001b[0;34m\u001b[0m\u001b[0m\n\u001b[0;32m-> 1839\u001b[0;31m             \u001b[0mdata\u001b[0m \u001b[0;34m=\u001b[0m \u001b[0mself\u001b[0m\u001b[0;34m.\u001b[0m\u001b[0m_reader\u001b[0m\u001b[0;34m.\u001b[0m\u001b[0mread\u001b[0m\u001b[0;34m(\u001b[0m\u001b[0mnrows\u001b[0m\u001b[0;34m)\u001b[0m\u001b[0;34m\u001b[0m\u001b[0m\n\u001b[0m\u001b[1;32m   1840\u001b[0m         \u001b[0;32mexcept\u001b[0m \u001b[0mStopIteration\u001b[0m\u001b[0;34m:\u001b[0m\u001b[0;34m\u001b[0m\u001b[0m\n\u001b[1;32m   1841\u001b[0m             \u001b[0;32mif\u001b[0m \u001b[0mself\u001b[0m\u001b[0;34m.\u001b[0m\u001b[0m_first_chunk\u001b[0m\u001b[0;34m:\u001b[0m\u001b[0;34m\u001b[0m\u001b[0m\n",
      "\u001b[0;32mpandas/_libs/parsers.pyx\u001b[0m in \u001b[0;36mpandas._libs.parsers.TextReader.read\u001b[0;34m()\u001b[0m\n",
      "\u001b[0;32mpandas/_libs/parsers.pyx\u001b[0m in \u001b[0;36mpandas._libs.parsers.TextReader._read_low_memory\u001b[0;34m()\u001b[0m\n",
      "\u001b[0;32mpandas/_libs/parsers.pyx\u001b[0m in \u001b[0;36mpandas._libs.parsers.TextReader._read_rows\u001b[0;34m()\u001b[0m\n",
      "\u001b[0;32mpandas/_libs/parsers.pyx\u001b[0m in \u001b[0;36mpandas._libs.parsers.TextReader._convert_column_data\u001b[0;34m()\u001b[0m\n",
      "\u001b[0;32mpandas/_libs/parsers.pyx\u001b[0m in \u001b[0;36mpandas._libs.parsers.TextReader._convert_tokens\u001b[0;34m()\u001b[0m\n",
      "\u001b[0;32mpandas/_libs/parsers.pyx\u001b[0m in \u001b[0;36mpandas._libs.parsers.TextReader._convert_with_dtype\u001b[0;34m()\u001b[0m\n",
      "\u001b[0;32m~/anaconda3/lib/python3.6/site-packages/pandas/core/dtypes/common.py\u001b[0m in \u001b[0;36mis_integer_dtype\u001b[0;34m(arr_or_dtype)\u001b[0m\n\u001b[1;32m    775\u001b[0m \u001b[0;34m\u001b[0m\u001b[0m\n\u001b[1;32m    776\u001b[0m \u001b[0;34m\u001b[0m\u001b[0m\n\u001b[0;32m--> 777\u001b[0;31m \u001b[0;32mdef\u001b[0m \u001b[0mis_integer_dtype\u001b[0m\u001b[0;34m(\u001b[0m\u001b[0marr_or_dtype\u001b[0m\u001b[0;34m)\u001b[0m\u001b[0;34m:\u001b[0m\u001b[0;34m\u001b[0m\u001b[0m\n\u001b[0m\u001b[1;32m    778\u001b[0m     \"\"\"\n\u001b[1;32m    779\u001b[0m     \u001b[0mCheck\u001b[0m \u001b[0mwhether\u001b[0m \u001b[0mthe\u001b[0m \u001b[0mprovided\u001b[0m \u001b[0marray\u001b[0m \u001b[0;32mor\u001b[0m \u001b[0mdtype\u001b[0m \u001b[0;32mis\u001b[0m \u001b[0mof\u001b[0m \u001b[0man\u001b[0m \u001b[0minteger\u001b[0m \u001b[0mdtype\u001b[0m\u001b[0;34m.\u001b[0m\u001b[0;34m\u001b[0m\u001b[0m\n",
      "\u001b[0;31mKeyboardInterrupt\u001b[0m: "
     ]
    }
   ],
   "source": [
    "#wRC = wRAA + (リーグ総得点数 / リーグ総打席数) × 打席数\n",
    "df_batting['wRC'] = df_batting['wRAA'] + (df_batting['AB'] + df_batting['BB'] + df_batting['HBP'] + df_batting['SF'] + df_batting['SH']) * df_batting['yearID'].map(Sum_R) / df_batting['yearID'].map(Sum_PA) "
   ]
  },
  {
   "cell_type": "code",
   "execution_count": 19,
   "metadata": {},
   "outputs": [
    {
     "ename": "ValueError",
     "evalue": "Can only compare identically-labeled Series objects",
     "output_type": "error",
     "traceback": [
      "\u001b[0;31m---------------------------------------------------------------------------\u001b[0m",
      "\u001b[0;31mValueError\u001b[0m                                Traceback (most recent call last)",
      "\u001b[0;32m<ipython-input-19-aca03a0b7bd7>\u001b[0m in \u001b[0;36m<module>\u001b[0;34m()\u001b[0m\n\u001b[0;32m----> 1\u001b[0;31m \u001b[0mSum_R\u001b[0m\u001b[0;34m(\u001b[0m\u001b[0mdf_batting\u001b[0m\u001b[0;34m[\u001b[0m\u001b[0;34m'yearID'\u001b[0m\u001b[0;34m]\u001b[0m\u001b[0;34m)\u001b[0m\u001b[0;34m\u001b[0m\u001b[0m\n\u001b[0m",
      "\u001b[0;32m<ipython-input-15-3c36713e6b35>\u001b[0m in \u001b[0;36mSum_R\u001b[0;34m(year)\u001b[0m\n\u001b[1;32m      6\u001b[0m     \u001b[0;32mimport\u001b[0m \u001b[0mpandas\u001b[0m \u001b[0;32mas\u001b[0m \u001b[0mpd\u001b[0m\u001b[0;34m\u001b[0m\u001b[0m\n\u001b[1;32m      7\u001b[0m     \u001b[0mdf_team\u001b[0m \u001b[0;34m=\u001b[0m \u001b[0mpd\u001b[0m\u001b[0;34m.\u001b[0m\u001b[0mread_csv\u001b[0m\u001b[0;34m(\u001b[0m\u001b[0;34m\"Teams.csv\"\u001b[0m\u001b[0;34m)\u001b[0m\u001b[0;34m\u001b[0m\u001b[0m\n\u001b[0;32m----> 8\u001b[0;31m     \u001b[0;32mreturn\u001b[0m \u001b[0msum\u001b[0m\u001b[0;34m(\u001b[0m\u001b[0mdf_team\u001b[0m\u001b[0;34m[\u001b[0m\u001b[0mdf_team\u001b[0m\u001b[0;34m[\u001b[0m\u001b[0;34m\"yearID\"\u001b[0m\u001b[0;34m]\u001b[0m \u001b[0;34m==\u001b[0m \u001b[0myear\u001b[0m\u001b[0;34m]\u001b[0m\u001b[0;34m.\u001b[0m\u001b[0mR\u001b[0m\u001b[0;34m)\u001b[0m\u001b[0;34m\u001b[0m\u001b[0m\n\u001b[0m\u001b[1;32m      9\u001b[0m \u001b[0;34m\u001b[0m\u001b[0m\n\u001b[1;32m     10\u001b[0m \u001b[0;32mdef\u001b[0m \u001b[0mSum_PA\u001b[0m\u001b[0;34m(\u001b[0m\u001b[0myear\u001b[0m\u001b[0;34m)\u001b[0m\u001b[0;34m:\u001b[0m\u001b[0;34m\u001b[0m\u001b[0m\n",
      "\u001b[0;32m~/anaconda3/lib/python3.6/site-packages/pandas/core/ops.py\u001b[0m in \u001b[0;36mwrapper\u001b[0;34m(self, other, axis)\u001b[0m\n\u001b[1;32m    834\u001b[0m             \u001b[0;32mif\u001b[0m \u001b[0;32mnot\u001b[0m \u001b[0mself\u001b[0m\u001b[0;34m.\u001b[0m\u001b[0m_indexed_same\u001b[0m\u001b[0;34m(\u001b[0m\u001b[0mother\u001b[0m\u001b[0;34m)\u001b[0m\u001b[0;34m:\u001b[0m\u001b[0;34m\u001b[0m\u001b[0m\n\u001b[1;32m    835\u001b[0m                 \u001b[0mmsg\u001b[0m \u001b[0;34m=\u001b[0m \u001b[0;34m'Can only compare identically-labeled Series objects'\u001b[0m\u001b[0;34m\u001b[0m\u001b[0m\n\u001b[0;32m--> 836\u001b[0;31m                 \u001b[0;32mraise\u001b[0m \u001b[0mValueError\u001b[0m\u001b[0;34m(\u001b[0m\u001b[0mmsg\u001b[0m\u001b[0;34m)\u001b[0m\u001b[0;34m\u001b[0m\u001b[0m\n\u001b[0m\u001b[1;32m    837\u001b[0m             return self._constructor(na_op(self.values, other.values),\n\u001b[1;32m    838\u001b[0m                                      index=self.index, name=name)\n",
      "\u001b[0;31mValueError\u001b[0m: Can only compare identically-labeled Series objects"
     ]
    }
   ],
   "source": [
    "Sum_R(df_batting['yearID'])"
   ]
  },
  {
   "cell_type": "code",
   "execution_count": 117,
   "metadata": {},
   "outputs": [],
   "source": [
    "#wRCを列として加えるのは現実的ではないかもしれない…"
   ]
  },
  {
   "cell_type": "code",
   "execution_count": 21,
   "metadata": {},
   "outputs": [],
   "source": [
    "def IDreturn_imp(firstname, lastname):\n",
    "    import pandas as pd\n",
    "    import sys\n",
    "    df_people = pd.read_csv(\"People.csv\")\n",
    "    dflist = list(df_people.query('nameFirst == @firstname and nameLast == @lastname').playerID)\n",
    "    if (dflist[0] == dflist[-1]):\n",
    "        return dflist[0]\n",
    "    else:\n",
    "        print('There are people having same first and last names.')\n",
    "        birth_year = int(input('Please input the Birth Year of the player you are trying to look up.'))\n",
    "        dflist2 = list(df_people.query('nameFirst == @firstname and nameLast == @lastname and birthYear == @birth_year').playerID)\n",
    "        if (dflist2[0] == dflist2[-1]):\n",
    "            return dflist2[0]\n",
    "        else:\n",
    "            print('There are still people having same first and last names. Please input the Birth Month and Date of the player you are trying to look up')\n",
    "            birth_month = int(input('Put the birth month.'))\n",
    "            birth_day = int(input('Put the birth day.'))\n",
    "            dflist3 = list(df_people.query('nameFirst == @firstname and nameLast == @lastname and birthYear == @birth_year and birthMonth == @birth_month and birthDay == @birth_day').playerID)\n",
    "            return dflist3[0]\n",
    "\n",
    "def AllSabar():\n",
    "    import pandas as pd\n",
    "    df_batting_origin = pd.read_csv(\"Batting.csv\")\n",
    "    df_batting = df_batting_origin.copy()\n",
    "    df_batting = df_batting.fillna(int(0)) #欠損を0に置き換え\n",
    "    df_batting['AVG'] = df_batting['H']/df_batting['AB']\n",
    "    #出塁率 ＝ （安打数＋四球＋死球）÷（打数＋四球＋死球＋犠飛）\n",
    "    df_batting['OBP'] = (df_batting['H'] + df_batting['BB'] + df_batting['HBP']) / (df_batting['AB'] + df_batting['BB'] + df_batting['HBP'] + df_batting['SF'])\n",
    "    #塁打数\n",
    "    df_batting['TB'] = (df_batting['H'] - df_batting['2B'] - df_batting['3B'] - df_batting['HR']) * 1 + df_batting['2B'] * 2 + df_batting['3B'] * 3 + df_batting['HR'] * 4\n",
    "    \n",
    "    #長打率 ＝ 塁打数÷打数\n",
    "    df_batting['SLG'] = df_batting['TB'] / df_batting['AB']\n",
    "    \n",
    "    df_batting['OPS'] = df_batting['OBP'] + df_batting['SLG']\n",
    "    df_batting['wOBA'] = (0.691 * (df_batting['BB'] - df_batting['IBB']) + 0.722 * df_batting['HBP'] + 0.884 * (df_batting['H'] - df_batting['2B'] - df_batting['3B'] - df_batting['HR']) + 1.257 * df_batting['2B'] +1.593 * df_batting['3B'] + 2.058 * df_batting['HR']) / (df_batting['AB'] + df_batting['BB'] - df_batting['IBB'] + df_batting['SF'] + df_batting['HBP'])\n",
    "    df_batting['wRAA'] = (df_batting['AB'] + df_batting['BB'] + df_batting['HBP'] + df_batting['SF'] + df_batting['SH'])*(df_batting['wOBA'] - 0.320)/1.25\n",
    "    df_batting.to_csv(\"BattingCopy.csv\")\n",
    "    \n",
    "def Sum_R(year):\n",
    "    import pandas as pd\n",
    "    df_team = pd.read_csv(\"Teams.csv\")\n",
    "    return sum(df_team[df_team[\"yearID\"] == year].R)\n",
    "\n",
    "def Sum_PA(year):\n",
    "    import pandas as pd\n",
    "    df_team = pd.read_csv(\"Teams.csv\")\n",
    "    return int((sum(df_team[df_team[\"yearID\"] == year].AB) + sum(df_team[df_team[\"yearID\"] == year].BB) + sum(df_team[df_team[\"yearID\"] == year].HBP) + sum(df_team[df_team[\"yearID\"] == year].SF) + sum(df_team[df_team[\"yearID\"] == year].SB)))\n",
    "\n",
    "def wRC(year, firstname, lastname):\n",
    "    import pandas as pd\n",
    "    AllSabar()\n",
    "    df_batting = pd.read_csv(\"BattingCopy.csv\")\n",
    "    playerID = IDreturn_imp(firstname, lastname)\n",
    "    df_Xplayer = df_batting[(df_batting[\"playerID\"] == playerID) & (df_batting[\"yearID\"] == year)]\n",
    "    return (df_Xplayer['wRAA'] + (df_Xplayer['AB'] + df_Xplayer['BB'] + df_Xplayer['HBP'] + df_Xplayer['SF'] + df_Xplayer['SH']) * Sum_R(year) / Sum_PA(year))"
   ]
  },
  {
   "cell_type": "code",
   "execution_count": 22,
   "metadata": {},
   "outputs": [
    {
     "data": {
      "text/plain": [
       "82095    181.906928\n",
       "dtype: float64"
      ]
     },
     "execution_count": 22,
     "metadata": {},
     "output_type": "execute_result"
    }
   ],
   "source": [
    "wRC(2002, \"Barry\", \"Bonds\")"
   ]
  },
  {
   "cell_type": "code",
   "execution_count": 133,
   "metadata": {},
   "outputs": [
    {
     "data": {
      "text/plain": [
       "80766    200.223669\n",
       "dtype: float64"
      ]
     },
     "execution_count": 133,
     "metadata": {},
     "output_type": "execute_result"
    }
   ],
   "source": [
    "wRC(2001, \"Barry\", \"Bonds\")"
   ]
  },
  {
   "cell_type": "code",
   "execution_count": 134,
   "metadata": {},
   "outputs": [
    {
     "data": {
      "text/plain": [
       "83423    148.224005\n",
       "dtype: float64"
      ]
     },
     "execution_count": 134,
     "metadata": {},
     "output_type": "execute_result"
    }
   ],
   "source": [
    "wRC(2001, \"Barry\", \"Bonds\")\n",
    "wRC(2002, \"Barry\", \"Bonds\")\n",
    "wRC(2003, \"Barry\", \"Bonds\")"
   ]
  },
  {
   "cell_type": "code",
   "execution_count": 141,
   "metadata": {},
   "outputs": [],
   "source": [
    "def wRC_accumulation(firstname, lastname):\n",
    "    import pandas as pd\n",
    "    width = 0.3\n",
    "    import matplotlib.pyplot as plt\n",
    "    import matplotlib.ticker as ticker\n",
    "    AllSabar()\n",
    "    output = []\n",
    "    df_batting = pd.read_csv(\"BattingCopy.csv\")\n",
    "    playerID = IDreturn_imp(firstname, lastname)\n",
    "    new_list = list(df_batting[df_batting[\"playerID\"] == playerID].yearID)\n",
    "    for y in new_list:\n",
    "        output.append(wRC(y, firstname, lastname))\n",
    "    plt.bar(new_list, output, width=width, label=\"%s\" %(firstname + \" \" + lastname))\n",
    "    plt.show()"
   ]
  },
  {
   "cell_type": "code",
   "execution_count": 142,
   "metadata": {},
   "outputs": [
    {
     "ename": "KeyError",
     "evalue": "0",
     "output_type": "error",
     "traceback": [
      "\u001b[0;31m---------------------------------------------------------------------------\u001b[0m",
      "\u001b[0;31mKeyError\u001b[0m                                  Traceback (most recent call last)",
      "\u001b[0;32m<ipython-input-142-83cf643ef992>\u001b[0m in \u001b[0;36m<module>\u001b[0;34m()\u001b[0m\n\u001b[0;32m----> 1\u001b[0;31m \u001b[0mwRC_accumulation\u001b[0m\u001b[0;34m(\u001b[0m\u001b[0;34m\"Barry\"\u001b[0m\u001b[0;34m,\u001b[0m \u001b[0;34m\"Bonds\"\u001b[0m\u001b[0;34m)\u001b[0m\u001b[0;34m\u001b[0m\u001b[0m\n\u001b[0m",
      "\u001b[0;32m<ipython-input-141-a4d3b1ccb680>\u001b[0m in \u001b[0;36mwRC_accumulation\u001b[0;34m(firstname, lastname)\u001b[0m\n\u001b[1;32m     11\u001b[0m     \u001b[0;32mfor\u001b[0m \u001b[0my\u001b[0m \u001b[0;32min\u001b[0m \u001b[0mnew_list\u001b[0m\u001b[0;34m:\u001b[0m\u001b[0;34m\u001b[0m\u001b[0m\n\u001b[1;32m     12\u001b[0m         \u001b[0moutput\u001b[0m\u001b[0;34m.\u001b[0m\u001b[0mappend\u001b[0m\u001b[0;34m(\u001b[0m\u001b[0mwRC\u001b[0m\u001b[0;34m(\u001b[0m\u001b[0my\u001b[0m\u001b[0;34m,\u001b[0m \u001b[0mfirstname\u001b[0m\u001b[0;34m,\u001b[0m \u001b[0mlastname\u001b[0m\u001b[0;34m)\u001b[0m\u001b[0;34m)\u001b[0m\u001b[0;34m\u001b[0m\u001b[0m\n\u001b[0;32m---> 13\u001b[0;31m     \u001b[0mplt\u001b[0m\u001b[0;34m.\u001b[0m\u001b[0mbar\u001b[0m\u001b[0;34m(\u001b[0m\u001b[0mnew_list\u001b[0m\u001b[0;34m,\u001b[0m \u001b[0moutput\u001b[0m\u001b[0;34m,\u001b[0m \u001b[0mwidth\u001b[0m\u001b[0;34m=\u001b[0m\u001b[0mwidth\u001b[0m\u001b[0;34m,\u001b[0m \u001b[0mlabel\u001b[0m\u001b[0;34m=\u001b[0m\u001b[0;34m\"%s\"\u001b[0m \u001b[0;34m%\u001b[0m\u001b[0;34m(\u001b[0m\u001b[0mfirstname\u001b[0m \u001b[0;34m+\u001b[0m \u001b[0;34m\" \"\u001b[0m \u001b[0;34m+\u001b[0m \u001b[0mlastname\u001b[0m\u001b[0;34m)\u001b[0m\u001b[0;34m)\u001b[0m\u001b[0;34m\u001b[0m\u001b[0m\n\u001b[0m\u001b[1;32m     14\u001b[0m     \u001b[0mplt\u001b[0m\u001b[0;34m.\u001b[0m\u001b[0mshow\u001b[0m\u001b[0;34m(\u001b[0m\u001b[0;34m)\u001b[0m\u001b[0;34m\u001b[0m\u001b[0m\n",
      "\u001b[0;32m~/anaconda3/lib/python3.6/site-packages/matplotlib/pyplot.py\u001b[0m in \u001b[0;36mbar\u001b[0;34m(*args, **kwargs)\u001b[0m\n\u001b[1;32m   2646\u001b[0m                       mplDeprecation)\n\u001b[1;32m   2647\u001b[0m     \u001b[0;32mtry\u001b[0m\u001b[0;34m:\u001b[0m\u001b[0;34m\u001b[0m\u001b[0m\n\u001b[0;32m-> 2648\u001b[0;31m         \u001b[0mret\u001b[0m \u001b[0;34m=\u001b[0m \u001b[0max\u001b[0m\u001b[0;34m.\u001b[0m\u001b[0mbar\u001b[0m\u001b[0;34m(\u001b[0m\u001b[0;34m*\u001b[0m\u001b[0margs\u001b[0m\u001b[0;34m,\u001b[0m \u001b[0;34m**\u001b[0m\u001b[0mkwargs\u001b[0m\u001b[0;34m)\u001b[0m\u001b[0;34m\u001b[0m\u001b[0m\n\u001b[0m\u001b[1;32m   2649\u001b[0m     \u001b[0;32mfinally\u001b[0m\u001b[0;34m:\u001b[0m\u001b[0;34m\u001b[0m\u001b[0m\n\u001b[1;32m   2650\u001b[0m         \u001b[0max\u001b[0m\u001b[0;34m.\u001b[0m\u001b[0m_hold\u001b[0m \u001b[0;34m=\u001b[0m \u001b[0mwashold\u001b[0m\u001b[0;34m\u001b[0m\u001b[0m\n",
      "\u001b[0;32m~/anaconda3/lib/python3.6/site-packages/matplotlib/__init__.py\u001b[0m in \u001b[0;36minner\u001b[0;34m(ax, *args, **kwargs)\u001b[0m\n\u001b[1;32m   1715\u001b[0m                     warnings.warn(msg % (label_namer, func.__name__),\n\u001b[1;32m   1716\u001b[0m                                   RuntimeWarning, stacklevel=2)\n\u001b[0;32m-> 1717\u001b[0;31m             \u001b[0;32mreturn\u001b[0m \u001b[0mfunc\u001b[0m\u001b[0;34m(\u001b[0m\u001b[0max\u001b[0m\u001b[0;34m,\u001b[0m \u001b[0;34m*\u001b[0m\u001b[0margs\u001b[0m\u001b[0;34m,\u001b[0m \u001b[0;34m**\u001b[0m\u001b[0mkwargs\u001b[0m\u001b[0;34m)\u001b[0m\u001b[0;34m\u001b[0m\u001b[0m\n\u001b[0m\u001b[1;32m   1718\u001b[0m         \u001b[0mpre_doc\u001b[0m \u001b[0;34m=\u001b[0m \u001b[0minner\u001b[0m\u001b[0;34m.\u001b[0m\u001b[0m__doc__\u001b[0m\u001b[0;34m\u001b[0m\u001b[0m\n\u001b[1;32m   1719\u001b[0m         \u001b[0;32mif\u001b[0m \u001b[0mpre_doc\u001b[0m \u001b[0;32mis\u001b[0m \u001b[0;32mNone\u001b[0m\u001b[0;34m:\u001b[0m\u001b[0;34m\u001b[0m\u001b[0m\n",
      "\u001b[0;32m~/anaconda3/lib/python3.6/site-packages/matplotlib/axes/_axes.py\u001b[0m in \u001b[0;36mbar\u001b[0;34m(self, *args, **kwargs)\u001b[0m\n\u001b[1;32m   2015\u001b[0m         x, height, width, y, linewidth = np.broadcast_arrays(\n\u001b[1;32m   2016\u001b[0m             \u001b[0;31m# Make args iterable too.\u001b[0m\u001b[0;34m\u001b[0m\u001b[0;34m\u001b[0m\u001b[0m\n\u001b[0;32m-> 2017\u001b[0;31m             np.atleast_1d(x), height, width, y, linewidth)\n\u001b[0m\u001b[1;32m   2018\u001b[0m \u001b[0;34m\u001b[0m\u001b[0m\n\u001b[1;32m   2019\u001b[0m         \u001b[0;32mif\u001b[0m \u001b[0morientation\u001b[0m \u001b[0;34m==\u001b[0m \u001b[0;34m'vertical'\u001b[0m\u001b[0;34m:\u001b[0m\u001b[0;34m\u001b[0m\u001b[0m\n",
      "\u001b[0;32m~/anaconda3/lib/python3.6/site-packages/numpy/lib/stride_tricks.py\u001b[0m in \u001b[0;36mbroadcast_arrays\u001b[0;34m(*args, **kwargs)\u001b[0m\n\u001b[1;32m    245\u001b[0m         raise TypeError('broadcast_arrays() got an unexpected keyword '\n\u001b[1;32m    246\u001b[0m                         'argument {!r}'.format(kwargs.keys()[0]))\n\u001b[0;32m--> 247\u001b[0;31m     \u001b[0margs\u001b[0m \u001b[0;34m=\u001b[0m \u001b[0;34m[\u001b[0m\u001b[0mnp\u001b[0m\u001b[0;34m.\u001b[0m\u001b[0marray\u001b[0m\u001b[0;34m(\u001b[0m\u001b[0m_m\u001b[0m\u001b[0;34m,\u001b[0m \u001b[0mcopy\u001b[0m\u001b[0;34m=\u001b[0m\u001b[0;32mFalse\u001b[0m\u001b[0;34m,\u001b[0m \u001b[0msubok\u001b[0m\u001b[0;34m=\u001b[0m\u001b[0msubok\u001b[0m\u001b[0;34m)\u001b[0m \u001b[0;32mfor\u001b[0m \u001b[0m_m\u001b[0m \u001b[0;32min\u001b[0m \u001b[0margs\u001b[0m\u001b[0;34m]\u001b[0m\u001b[0;34m\u001b[0m\u001b[0m\n\u001b[0m\u001b[1;32m    248\u001b[0m \u001b[0;34m\u001b[0m\u001b[0m\n\u001b[1;32m    249\u001b[0m     \u001b[0mshape\u001b[0m \u001b[0;34m=\u001b[0m \u001b[0m_broadcast_shape\u001b[0m\u001b[0;34m(\u001b[0m\u001b[0;34m*\u001b[0m\u001b[0margs\u001b[0m\u001b[0;34m)\u001b[0m\u001b[0;34m\u001b[0m\u001b[0m\n",
      "\u001b[0;32m~/anaconda3/lib/python3.6/site-packages/numpy/lib/stride_tricks.py\u001b[0m in \u001b[0;36m<listcomp>\u001b[0;34m(.0)\u001b[0m\n\u001b[1;32m    245\u001b[0m         raise TypeError('broadcast_arrays() got an unexpected keyword '\n\u001b[1;32m    246\u001b[0m                         'argument {!r}'.format(kwargs.keys()[0]))\n\u001b[0;32m--> 247\u001b[0;31m     \u001b[0margs\u001b[0m \u001b[0;34m=\u001b[0m \u001b[0;34m[\u001b[0m\u001b[0mnp\u001b[0m\u001b[0;34m.\u001b[0m\u001b[0marray\u001b[0m\u001b[0;34m(\u001b[0m\u001b[0m_m\u001b[0m\u001b[0;34m,\u001b[0m \u001b[0mcopy\u001b[0m\u001b[0;34m=\u001b[0m\u001b[0;32mFalse\u001b[0m\u001b[0;34m,\u001b[0m \u001b[0msubok\u001b[0m\u001b[0;34m=\u001b[0m\u001b[0msubok\u001b[0m\u001b[0;34m)\u001b[0m \u001b[0;32mfor\u001b[0m \u001b[0m_m\u001b[0m \u001b[0;32min\u001b[0m \u001b[0margs\u001b[0m\u001b[0;34m]\u001b[0m\u001b[0;34m\u001b[0m\u001b[0m\n\u001b[0m\u001b[1;32m    248\u001b[0m \u001b[0;34m\u001b[0m\u001b[0m\n\u001b[1;32m    249\u001b[0m     \u001b[0mshape\u001b[0m \u001b[0;34m=\u001b[0m \u001b[0m_broadcast_shape\u001b[0m\u001b[0;34m(\u001b[0m\u001b[0;34m*\u001b[0m\u001b[0margs\u001b[0m\u001b[0;34m)\u001b[0m\u001b[0;34m\u001b[0m\u001b[0m\n",
      "\u001b[0;32m~/anaconda3/lib/python3.6/site-packages/pandas/core/series.py\u001b[0m in \u001b[0;36m__getitem__\u001b[0;34m(self, key)\u001b[0m\n\u001b[1;32m    621\u001b[0m         \u001b[0mkey\u001b[0m \u001b[0;34m=\u001b[0m \u001b[0mcom\u001b[0m\u001b[0;34m.\u001b[0m\u001b[0m_apply_if_callable\u001b[0m\u001b[0;34m(\u001b[0m\u001b[0mkey\u001b[0m\u001b[0;34m,\u001b[0m \u001b[0mself\u001b[0m\u001b[0;34m)\u001b[0m\u001b[0;34m\u001b[0m\u001b[0m\n\u001b[1;32m    622\u001b[0m         \u001b[0;32mtry\u001b[0m\u001b[0;34m:\u001b[0m\u001b[0;34m\u001b[0m\u001b[0m\n\u001b[0;32m--> 623\u001b[0;31m             \u001b[0mresult\u001b[0m \u001b[0;34m=\u001b[0m \u001b[0mself\u001b[0m\u001b[0;34m.\u001b[0m\u001b[0mindex\u001b[0m\u001b[0;34m.\u001b[0m\u001b[0mget_value\u001b[0m\u001b[0;34m(\u001b[0m\u001b[0mself\u001b[0m\u001b[0;34m,\u001b[0m \u001b[0mkey\u001b[0m\u001b[0;34m)\u001b[0m\u001b[0;34m\u001b[0m\u001b[0m\n\u001b[0m\u001b[1;32m    624\u001b[0m \u001b[0;34m\u001b[0m\u001b[0m\n\u001b[1;32m    625\u001b[0m             \u001b[0;32mif\u001b[0m \u001b[0;32mnot\u001b[0m \u001b[0mis_scalar\u001b[0m\u001b[0;34m(\u001b[0m\u001b[0mresult\u001b[0m\u001b[0;34m)\u001b[0m\u001b[0;34m:\u001b[0m\u001b[0;34m\u001b[0m\u001b[0m\n",
      "\u001b[0;32m~/anaconda3/lib/python3.6/site-packages/pandas/core/indexes/base.py\u001b[0m in \u001b[0;36mget_value\u001b[0;34m(self, series, key)\u001b[0m\n\u001b[1;32m   2558\u001b[0m         \u001b[0;32mtry\u001b[0m\u001b[0;34m:\u001b[0m\u001b[0;34m\u001b[0m\u001b[0m\n\u001b[1;32m   2559\u001b[0m             return self._engine.get_value(s, k,\n\u001b[0;32m-> 2560\u001b[0;31m                                           tz=getattr(series.dtype, 'tz', None))\n\u001b[0m\u001b[1;32m   2561\u001b[0m         \u001b[0;32mexcept\u001b[0m \u001b[0mKeyError\u001b[0m \u001b[0;32mas\u001b[0m \u001b[0me1\u001b[0m\u001b[0;34m:\u001b[0m\u001b[0;34m\u001b[0m\u001b[0m\n\u001b[1;32m   2562\u001b[0m             \u001b[0;32mif\u001b[0m \u001b[0mlen\u001b[0m\u001b[0;34m(\u001b[0m\u001b[0mself\u001b[0m\u001b[0;34m)\u001b[0m \u001b[0;34m>\u001b[0m \u001b[0;36m0\u001b[0m \u001b[0;32mand\u001b[0m \u001b[0mself\u001b[0m\u001b[0;34m.\u001b[0m\u001b[0minferred_type\u001b[0m \u001b[0;32min\u001b[0m \u001b[0;34m[\u001b[0m\u001b[0;34m'integer'\u001b[0m\u001b[0;34m,\u001b[0m \u001b[0;34m'boolean'\u001b[0m\u001b[0;34m]\u001b[0m\u001b[0;34m:\u001b[0m\u001b[0;34m\u001b[0m\u001b[0m\n",
      "\u001b[0;32mpandas/_libs/index.pyx\u001b[0m in \u001b[0;36mpandas._libs.index.IndexEngine.get_value\u001b[0;34m()\u001b[0m\n",
      "\u001b[0;32mpandas/_libs/index.pyx\u001b[0m in \u001b[0;36mpandas._libs.index.IndexEngine.get_value\u001b[0;34m()\u001b[0m\n",
      "\u001b[0;32mpandas/_libs/index.pyx\u001b[0m in \u001b[0;36mpandas._libs.index.IndexEngine.get_loc\u001b[0;34m()\u001b[0m\n",
      "\u001b[0;32mpandas/_libs/hashtable_class_helper.pxi\u001b[0m in \u001b[0;36mpandas._libs.hashtable.Int64HashTable.get_item\u001b[0;34m()\u001b[0m\n",
      "\u001b[0;32mpandas/_libs/hashtable_class_helper.pxi\u001b[0m in \u001b[0;36mpandas._libs.hashtable.Int64HashTable.get_item\u001b[0;34m()\u001b[0m\n",
      "\u001b[0;31mKeyError\u001b[0m: 0"
     ]
    },
    {
     "data": {
      "image/png": "[encoded data removed]",
      "text/plain": [
       "<matplotlib.figure.Figure at 0x1529668160>"
      ]
     },
     "metadata": {},
     "output_type": "display_data"
    }
   ],
   "source": [
    "wRC_accumulation(\"Barry\", \"Bonds\")"
   ]
  },
  {
   "cell_type": "code",
   "execution_count": 23,
   "metadata": {},
   "outputs": [
    {
     "name": "stdout",
     "output_type": "stream",
     "text": [
      "elapsed_time:2.4565770626068115[sec]\n"
     ]
    }
   ],
   "source": [
    "import time\n",
    "\n",
    "if __name__ == '__main__':\n",
    "    start = time.time()\n",
    "    AllSabar()\n",
    "    elapsed_time = time.time() - start\n",
    "    print (\"elapsed_time:{0}\".format(elapsed_time) + \"[sec]\")\n",
    "    \n",
    "#AllSabarはすごく時間がかかるので、改善しよう"
   ]
  },
  {
   "cell_type": "code",
   "execution_count": 177,
   "metadata": {},
   "outputs": [],
   "source": [
    "#改善策その1 BattingCopy.csvは作られている前提\n",
    "def wRC(year, firstname, lastname):\n",
    "    import pandas as pd\n",
    "    df_batting = pd.read_csv(\"BattingCopy.csv\")\n",
    "    playerID = IDreturn_imp(firstname, lastname)\n",
    "    df_Xplayer = df_batting[(df_batting[\"playerID\"] == playerID) & (df_batting[\"yearID\"] == year)]\n",
    "    return float((float(df_Xplayer['wRAA']) + (float(df_Xplayer['AB']) + float(df_Xplayer['BB']) + float(df_Xplayer['HBP']) + float(df_Xplayer['SF']) + float(df_Xplayer['SH'])) * Sum_R(year) / Sum_PA(year)))"
   ]
  },
  {
   "cell_type": "code",
   "execution_count": 1,
   "metadata": {},
   "outputs": [],
   "source": [
    "def wRC_accumulation(firstname, lastname):\n",
    "    import pandas as pd\n",
    "    width = 0.3\n",
    "    import matplotlib.pyplot as plt\n",
    "    import matplotlib.ticker as ticker\n",
    "    output = []\n",
    "    df_batting = pd.read_csv(\"BattingCopy.csv\")\n",
    "    playerID = IDreturn_imp(firstname, lastname)\n",
    "    df_Xplayer = df_batting[(df_batting[\"playerID\"] == playerID)]\n",
    "    df_Xplayer['WRC'] = df_Xplayer['wRAA'] + (df_Xplayer['AB'] + df_Xplayer['BB'] + df_Xplayer['HBP'] + df_Xplayer['SF'] + df_Xplayer['SH']) * Sum_R(int(df_Xplayer['yearID'])) / Sum_PA(int(df_Xplayer['yearID']))\n",
    "    #Sum_Rを使えるようにmapかapply導入\n",
    "    new_list = list(df_batting[df_batting[\"playerID\"] == playerID].yearID)\n",
    "    plt.bar(new_list, df_Xplayer['WRC'], width=width, label=\"%s\" %(firstname + \" \" + lastname))\n",
    "    plt.title(\"wRC of %s\" %(firstname + \" \" + lastname))\n",
    "    plt.show()"
   ]
  },
  {
   "cell_type": "code",
   "execution_count": 2,
   "metadata": {
    "scrolled": true
   },
   "outputs": [
    {
     "ename": "NameError",
     "evalue": "name 'IDreturn_imp' is not defined",
     "output_type": "error",
     "traceback": [
      "\u001b[0;31m---------------------------------------------------------------------------\u001b[0m",
      "\u001b[0;31mNameError\u001b[0m                                 Traceback (most recent call last)",
      "\u001b[0;32m<ipython-input-2-8ef3ccdbf066>\u001b[0m in \u001b[0;36m<module>\u001b[0;34m()\u001b[0m\n\u001b[0;32m----> 1\u001b[0;31m \u001b[0mprint\u001b[0m\u001b[0;34m(\u001b[0m\u001b[0mwRC_accumulation\u001b[0m\u001b[0;34m(\u001b[0m\u001b[0;34m\"Barry\"\u001b[0m\u001b[0;34m,\u001b[0m \u001b[0;34m\"Bonds\"\u001b[0m\u001b[0;34m)\u001b[0m\u001b[0;34m)\u001b[0m\u001b[0;34m\u001b[0m\u001b[0m\n\u001b[0m",
      "\u001b[0;32m<ipython-input-1-0fec70aef0b6>\u001b[0m in \u001b[0;36mwRC_accumulation\u001b[0;34m(firstname, lastname)\u001b[0m\n\u001b[1;32m      6\u001b[0m     \u001b[0moutput\u001b[0m \u001b[0;34m=\u001b[0m \u001b[0;34m[\u001b[0m\u001b[0;34m]\u001b[0m\u001b[0;34m\u001b[0m\u001b[0m\n\u001b[1;32m      7\u001b[0m     \u001b[0mdf_batting\u001b[0m \u001b[0;34m=\u001b[0m \u001b[0mpd\u001b[0m\u001b[0;34m.\u001b[0m\u001b[0mread_csv\u001b[0m\u001b[0;34m(\u001b[0m\u001b[0;34m\"BattingCopy.csv\"\u001b[0m\u001b[0;34m)\u001b[0m\u001b[0;34m\u001b[0m\u001b[0m\n\u001b[0;32m----> 8\u001b[0;31m     \u001b[0mplayerID\u001b[0m \u001b[0;34m=\u001b[0m \u001b[0mIDreturn_imp\u001b[0m\u001b[0;34m(\u001b[0m\u001b[0mfirstname\u001b[0m\u001b[0;34m,\u001b[0m \u001b[0mlastname\u001b[0m\u001b[0;34m)\u001b[0m\u001b[0;34m\u001b[0m\u001b[0m\n\u001b[0m\u001b[1;32m      9\u001b[0m     \u001b[0mdf_Xplayer\u001b[0m \u001b[0;34m=\u001b[0m \u001b[0mdf_batting\u001b[0m\u001b[0;34m[\u001b[0m\u001b[0;34m(\u001b[0m\u001b[0mdf_batting\u001b[0m\u001b[0;34m[\u001b[0m\u001b[0;34m\"playerID\"\u001b[0m\u001b[0;34m]\u001b[0m \u001b[0;34m==\u001b[0m \u001b[0mplayerID\u001b[0m\u001b[0;34m)\u001b[0m\u001b[0;34m]\u001b[0m\u001b[0;34m\u001b[0m\u001b[0m\n\u001b[1;32m     10\u001b[0m     \u001b[0mdf_Xplayer\u001b[0m\u001b[0;34m[\u001b[0m\u001b[0;34m'WRC'\u001b[0m\u001b[0;34m]\u001b[0m \u001b[0;34m=\u001b[0m \u001b[0mdf_Xplayer\u001b[0m\u001b[0;34m[\u001b[0m\u001b[0;34m'wRAA'\u001b[0m\u001b[0;34m]\u001b[0m \u001b[0;34m+\u001b[0m \u001b[0;34m(\u001b[0m\u001b[0mdf_Xplayer\u001b[0m\u001b[0;34m[\u001b[0m\u001b[0;34m'AB'\u001b[0m\u001b[0;34m]\u001b[0m \u001b[0;34m+\u001b[0m \u001b[0mdf_Xplayer\u001b[0m\u001b[0;34m[\u001b[0m\u001b[0;34m'BB'\u001b[0m\u001b[0;34m]\u001b[0m \u001b[0;34m+\u001b[0m \u001b[0mdf_Xplayer\u001b[0m\u001b[0;34m[\u001b[0m\u001b[0;34m'HBP'\u001b[0m\u001b[0;34m]\u001b[0m \u001b[0;34m+\u001b[0m \u001b[0mdf_Xplayer\u001b[0m\u001b[0;34m[\u001b[0m\u001b[0;34m'SF'\u001b[0m\u001b[0;34m]\u001b[0m \u001b[0;34m+\u001b[0m \u001b[0mdf_Xplayer\u001b[0m\u001b[0;34m[\u001b[0m\u001b[0;34m'SH'\u001b[0m\u001b[0;34m]\u001b[0m\u001b[0;34m)\u001b[0m \u001b[0;34m*\u001b[0m \u001b[0mSum_R\u001b[0m\u001b[0;34m(\u001b[0m\u001b[0mint\u001b[0m\u001b[0;34m(\u001b[0m\u001b[0mdf_Xplayer\u001b[0m\u001b[0;34m[\u001b[0m\u001b[0;34m'yearID'\u001b[0m\u001b[0;34m]\u001b[0m\u001b[0;34m)\u001b[0m\u001b[0;34m)\u001b[0m \u001b[0;34m/\u001b[0m \u001b[0mSum_PA\u001b[0m\u001b[0;34m(\u001b[0m\u001b[0mint\u001b[0m\u001b[0;34m(\u001b[0m\u001b[0mdf_Xplayer\u001b[0m\u001b[0;34m[\u001b[0m\u001b[0;34m'yearID'\u001b[0m\u001b[0;34m]\u001b[0m\u001b[0;34m)\u001b[0m\u001b[0;34m)\u001b[0m\u001b[0;34m\u001b[0m\u001b[0m\n",
      "\u001b[0;31mNameError\u001b[0m: name 'IDreturn_imp' is not defined"
     ]
    }
   ],
   "source": [
    "print(wRC_accumulation(\"Barry\", \"Bonds\"))"
   ]
  },
  {
   "cell_type": "code",
   "execution_count": 176,
   "metadata": {},
   "outputs": [
    {
     "name": "stdout",
     "output_type": "stream",
     "text": [
      "23199\n",
      "elapsed_time:0.025107145309448242[sec]\n"
     ]
    }
   ],
   "source": [
    "import time\n",
    "\n",
    "if __name__ == '__main__':\n",
    "    start = time.time()\n",
    "    print(Sum_R(2001))\n",
    "    elapsed_time = time.time() - start\n",
    "    print (\"elapsed_time:{0}\".format(elapsed_time) + \"[sec]\")"
   ]
  },
  {
   "cell_type": "code",
   "execution_count": 169,
   "metadata": {},
   "outputs": [
    {
     "ename": "TypeError",
     "evalue": "cannot convert the series to <class 'float'>",
     "output_type": "error",
     "traceback": [
      "\u001b[0;31m---------------------------------------------------------------------------\u001b[0m",
      "\u001b[0;31mTypeError\u001b[0m                                 Traceback (most recent call last)",
      "\u001b[0;32m<ipython-input-169-16cf7b00e392>\u001b[0m in \u001b[0;36m<module>\u001b[0;34m()\u001b[0m\n\u001b[0;32m----> 1\u001b[0;31m \u001b[0mprint\u001b[0m\u001b[0;34m(\u001b[0m\u001b[0mwRC_accumulation\u001b[0m\u001b[0;34m(\u001b[0m\u001b[0;34m\"Ichiro\"\u001b[0m\u001b[0;34m,\u001b[0m \u001b[0;34m\"Suzuki\"\u001b[0m\u001b[0;34m)\u001b[0m\u001b[0;34m)\u001b[0m\u001b[0;34m\u001b[0m\u001b[0m\n\u001b[0m",
      "\u001b[0;32m<ipython-input-166-8f5d832f9caf>\u001b[0m in \u001b[0;36mwRC_accumulation\u001b[0;34m(firstname, lastname)\u001b[0m\n\u001b[1;32m     10\u001b[0m     \u001b[0mnew_list\u001b[0m \u001b[0;34m=\u001b[0m \u001b[0mlist\u001b[0m\u001b[0;34m(\u001b[0m\u001b[0mdf_batting\u001b[0m\u001b[0;34m[\u001b[0m\u001b[0mdf_batting\u001b[0m\u001b[0;34m[\u001b[0m\u001b[0;34m\"playerID\"\u001b[0m\u001b[0;34m]\u001b[0m \u001b[0;34m==\u001b[0m \u001b[0mplayerID\u001b[0m\u001b[0;34m]\u001b[0m\u001b[0;34m.\u001b[0m\u001b[0myearID\u001b[0m\u001b[0;34m)\u001b[0m\u001b[0;34m\u001b[0m\u001b[0m\n\u001b[1;32m     11\u001b[0m     \u001b[0;32mfor\u001b[0m \u001b[0my\u001b[0m \u001b[0;32min\u001b[0m \u001b[0mnew_list\u001b[0m\u001b[0;34m:\u001b[0m\u001b[0;34m\u001b[0m\u001b[0m\n\u001b[0;32m---> 12\u001b[0;31m         \u001b[0moutput\u001b[0m\u001b[0;34m.\u001b[0m\u001b[0mappend\u001b[0m\u001b[0;34m(\u001b[0m\u001b[0mfloat\u001b[0m\u001b[0;34m(\u001b[0m\u001b[0mwRC\u001b[0m\u001b[0;34m(\u001b[0m\u001b[0my\u001b[0m\u001b[0;34m,\u001b[0m \u001b[0mfirstname\u001b[0m\u001b[0;34m,\u001b[0m \u001b[0mlastname\u001b[0m\u001b[0;34m)\u001b[0m\u001b[0;34m)\u001b[0m\u001b[0;34m)\u001b[0m\u001b[0;34m\u001b[0m\u001b[0m\n\u001b[0m\u001b[1;32m     13\u001b[0m     \u001b[0mplt\u001b[0m\u001b[0;34m.\u001b[0m\u001b[0mbar\u001b[0m\u001b[0;34m(\u001b[0m\u001b[0mnew_list\u001b[0m\u001b[0;34m,\u001b[0m \u001b[0moutput\u001b[0m\u001b[0;34m,\u001b[0m \u001b[0mwidth\u001b[0m\u001b[0;34m=\u001b[0m\u001b[0mwidth\u001b[0m\u001b[0;34m)\u001b[0m\u001b[0;34m\u001b[0m\u001b[0m\n\u001b[1;32m     14\u001b[0m     \u001b[0mplt\u001b[0m\u001b[0;34m.\u001b[0m\u001b[0mtitle\u001b[0m\u001b[0;34m(\u001b[0m\u001b[0;34m\"wRC of %s\"\u001b[0m \u001b[0;34m%\u001b[0m\u001b[0;34m(\u001b[0m\u001b[0mfirstname\u001b[0m \u001b[0;34m+\u001b[0m \u001b[0;34m\" \"\u001b[0m \u001b[0;34m+\u001b[0m \u001b[0mlastname\u001b[0m\u001b[0;34m)\u001b[0m\u001b[0;34m)\u001b[0m\u001b[0;34m\u001b[0m\u001b[0m\n",
      "\u001b[0;32m~/anaconda3/lib/python3.6/site-packages/pandas/core/series.py\u001b[0m in \u001b[0;36mwrapper\u001b[0;34m(self)\u001b[0m\n\u001b[1;32m    110\u001b[0m             \u001b[0;32mreturn\u001b[0m \u001b[0mconverter\u001b[0m\u001b[0;34m(\u001b[0m\u001b[0mself\u001b[0m\u001b[0;34m.\u001b[0m\u001b[0miloc\u001b[0m\u001b[0;34m[\u001b[0m\u001b[0;36m0\u001b[0m\u001b[0;34m]\u001b[0m\u001b[0;34m)\u001b[0m\u001b[0;34m\u001b[0m\u001b[0m\n\u001b[1;32m    111\u001b[0m         raise TypeError(\"cannot convert the series to \"\n\u001b[0;32m--> 112\u001b[0;31m                         \"{0}\".format(str(converter)))\n\u001b[0m\u001b[1;32m    113\u001b[0m \u001b[0;34m\u001b[0m\u001b[0m\n\u001b[1;32m    114\u001b[0m     \u001b[0;32mreturn\u001b[0m \u001b[0mwrapper\u001b[0m\u001b[0;34m\u001b[0m\u001b[0m\n",
      "\u001b[0;31mTypeError\u001b[0m: cannot convert the series to <class 'float'>"
     ]
    }
   ],
   "source": [
    "print(wRC_accumulation(\"Ichiro\", \"Suzuki\"))"
   ]
  },
  {
   "cell_type": "code",
   "execution_count": null,
   "metadata": {},
   "outputs": [],
   "source": []
  }
 ],
 "metadata": {
  "kernelspec": {
   "display_name": "Python 3",
   "language": "python",
   "name": "python3"
  },
  "language_info": {
   "codemirror_mode": {
    "name": "ipython",
    "version": 3
   },
   "file_extension": ".py",
   "mimetype": "text/x-python",
   "name": "python",
   "nbconvert_exporter": "python",
   "pygments_lexer": "ipython3",
   "version": "3.6.4"
  }
 },
 "nbformat": 4,
 "nbformat_minor": 2
}
